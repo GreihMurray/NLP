{
  "cells": [
    {
      "cell_type": "markdown",
      "metadata": {
        "id": "view-in-github",
        "colab_type": "text"
      },
      "source": [
        "<a href=\"https://colab.research.google.com/github/aithaprasad/NLP_Sentiment_Analysis/blob/master/Sentimental_Analysis_any_approach_2.ipynb\" target=\"_parent\"><img src=\"https://colab.research.google.com/assets/colab-badge.svg\" alt=\"Open In Colab\"/></a>"
      ]
    },
    {
      "cell_type": "code",
      "execution_count": null,
      "metadata": {
        "id": "7BxRxnUpxqzU"
      },
      "outputs": [],
      "source": [
        "# Import libraries\n",
        "import pandas as pd\n",
        "import numpy as np\n",
        "import re\n",
        "import nltk\n",
        "from nltk.corpus import stopwords\n",
        "\n",
        "from numpy import array\n",
        "from keras.preprocessing.text import one_hot\n",
        "from keras.preprocessing.sequence import pad_sequences\n",
        "from keras.models import Sequential\n",
        "from keras.layers.core import Activation, Dropout, Dense\n",
        "from keras.layers import Flatten\n",
        "from keras.layers import GlobalMaxPooling1D\n",
        "from keras.layers.embeddings import Embedding\n",
        "from sklearn.model_selection import train_test_split\n",
        "from keras.preprocessing.text import Tokenizer"
      ]
    },
    {
      "cell_type": "markdown",
      "metadata": {
        "id": "c2KIeKHSO4c8"
      },
      "source": [
        "**Data Preparation Step**"
      ]
    },
    {
      "cell_type": "code",
      "execution_count": null,
      "metadata": {
        "id": "dCfDxRG8xr2K"
      },
      "outputs": [],
      "source": [
        "# Import data from file, split data by tab and names the columns\n",
        "data = pd.read_csv('train.tsv', delimiter=\"\\t\", header = None, names = ['label', 'sentence'])"
      ]
    },
    {
      "cell_type": "code",
      "execution_count": null,
      "metadata": {
        "colab": {
          "base_uri": "https://localhost:8080/",
          "height": 206
        },
        "id": "jFai9U4KD3V3",
        "outputId": "ebf2c1e5-6f9a-413c-9319-2916ef28a303"
      },
      "outputs": [
        {
          "data": {
            "text/html": [
              "\n",
              "  <div id=\"df-6022d9b3-477f-499d-88d3-f31723b14615\">\n",
              "    <div class=\"colab-df-container\">\n",
              "      <div>\n",
              "<style scoped>\n",
              "    .dataframe tbody tr th:only-of-type {\n",
              "        vertical-align: middle;\n",
              "    }\n",
              "\n",
              "    .dataframe tbody tr th {\n",
              "        vertical-align: top;\n",
              "    }\n",
              "\n",
              "    .dataframe thead th {\n",
              "        text-align: right;\n",
              "    }\n",
              "</style>\n",
              "<table border=\"1\" class=\"dataframe\">\n",
              "  <thead>\n",
              "    <tr style=\"text-align: right;\">\n",
              "      <th></th>\n",
              "      <th>label</th>\n",
              "      <th>sentence</th>\n",
              "    </tr>\n",
              "  </thead>\n",
              "  <tbody>\n",
              "    <tr>\n",
              "      <th>0</th>\n",
              "      <td>0</td>\n",
              "      <td>@USER @USER a sicrhau bod mwy o arian poced 'd...</td>\n",
              "    </tr>\n",
              "    <tr>\n",
              "      <th>1</th>\n",
              "      <td>1</td>\n",
              "      <td>Parti Dolig da gyda tim swyddfa canolog @USER ...</td>\n",
              "    </tr>\n",
              "    <tr>\n",
              "      <th>2</th>\n",
              "      <td>0</td>\n",
              "      <td>@USER yeaah ma fe yn wir. ( oh well.</td>\n",
              "    </tr>\n",
              "    <tr>\n",
              "      <th>3</th>\n",
              "      <td>1</td>\n",
              "      <td>@USER hahaha idk. 3am oedd y bws ti?</td>\n",
              "    </tr>\n",
              "    <tr>\n",
              "      <th>4</th>\n",
              "      <td>0</td>\n",
              "      <td>@USER dwim yn gal llun ohoni?</td>\n",
              "    </tr>\n",
              "  </tbody>\n",
              "</table>\n",
              "</div>\n",
              "      <button class=\"colab-df-convert\" onclick=\"convertToInteractive('df-6022d9b3-477f-499d-88d3-f31723b14615')\"\n",
              "              title=\"Convert this dataframe to an interactive table.\"\n",
              "              style=\"display:none;\">\n",
              "        \n",
              "  <svg xmlns=\"http://www.w3.org/2000/svg\" height=\"24px\"viewBox=\"0 0 24 24\"\n",
              "       width=\"24px\">\n",
              "    <path d=\"M0 0h24v24H0V0z\" fill=\"none\"/>\n",
              "    <path d=\"M18.56 5.44l.94 2.06.94-2.06 2.06-.94-2.06-.94-.94-2.06-.94 2.06-2.06.94zm-11 1L8.5 8.5l.94-2.06 2.06-.94-2.06-.94L8.5 2.5l-.94 2.06-2.06.94zm10 10l.94 2.06.94-2.06 2.06-.94-2.06-.94-.94-2.06-.94 2.06-2.06.94z\"/><path d=\"M17.41 7.96l-1.37-1.37c-.4-.4-.92-.59-1.43-.59-.52 0-1.04.2-1.43.59L10.3 9.45l-7.72 7.72c-.78.78-.78 2.05 0 2.83L4 21.41c.39.39.9.59 1.41.59.51 0 1.02-.2 1.41-.59l7.78-7.78 2.81-2.81c.8-.78.8-2.07 0-2.86zM5.41 20L4 18.59l7.72-7.72 1.47 1.35L5.41 20z\"/>\n",
              "  </svg>\n",
              "      </button>\n",
              "      \n",
              "  <style>\n",
              "    .colab-df-container {\n",
              "      display:flex;\n",
              "      flex-wrap:wrap;\n",
              "      gap: 12px;\n",
              "    }\n",
              "\n",
              "    .colab-df-convert {\n",
              "      background-color: #E8F0FE;\n",
              "      border: none;\n",
              "      border-radius: 50%;\n",
              "      cursor: pointer;\n",
              "      display: none;\n",
              "      fill: #1967D2;\n",
              "      height: 32px;\n",
              "      padding: 0 0 0 0;\n",
              "      width: 32px;\n",
              "    }\n",
              "\n",
              "    .colab-df-convert:hover {\n",
              "      background-color: #E2EBFA;\n",
              "      box-shadow: 0px 1px 2px rgba(60, 64, 67, 0.3), 0px 1px 3px 1px rgba(60, 64, 67, 0.15);\n",
              "      fill: #174EA6;\n",
              "    }\n",
              "\n",
              "    [theme=dark] .colab-df-convert {\n",
              "      background-color: #3B4455;\n",
              "      fill: #D2E3FC;\n",
              "    }\n",
              "\n",
              "    [theme=dark] .colab-df-convert:hover {\n",
              "      background-color: #434B5C;\n",
              "      box-shadow: 0px 1px 3px 1px rgba(0, 0, 0, 0.15);\n",
              "      filter: drop-shadow(0px 1px 2px rgba(0, 0, 0, 0.3));\n",
              "      fill: #FFFFFF;\n",
              "    }\n",
              "  </style>\n",
              "\n",
              "      <script>\n",
              "        const buttonEl =\n",
              "          document.querySelector('#df-6022d9b3-477f-499d-88d3-f31723b14615 button.colab-df-convert');\n",
              "        buttonEl.style.display =\n",
              "          google.colab.kernel.accessAllowed ? 'block' : 'none';\n",
              "\n",
              "        async function convertToInteractive(key) {\n",
              "          const element = document.querySelector('#df-6022d9b3-477f-499d-88d3-f31723b14615');\n",
              "          const dataTable =\n",
              "            await google.colab.kernel.invokeFunction('convertToInteractive',\n",
              "                                                     [key], {});\n",
              "          if (!dataTable) return;\n",
              "\n",
              "          const docLinkHtml = 'Like what you see? Visit the ' +\n",
              "            '<a target=\"_blank\" href=https://colab.research.google.com/notebooks/data_table.ipynb>data table notebook</a>'\n",
              "            + ' to learn more about interactive tables.';\n",
              "          element.innerHTML = '';\n",
              "          dataTable['output_type'] = 'display_data';\n",
              "          await google.colab.output.renderOutput(dataTable, element);\n",
              "          const docLink = document.createElement('div');\n",
              "          docLink.innerHTML = docLinkHtml;\n",
              "          element.appendChild(docLink);\n",
              "        }\n",
              "      </script>\n",
              "    </div>\n",
              "  </div>\n",
              "  "
            ],
            "text/plain": [
              "   label                                           sentence\n",
              "0      0  @USER @USER a sicrhau bod mwy o arian poced 'd...\n",
              "1      1  Parti Dolig da gyda tim swyddfa canolog @USER ...\n",
              "2      0               @USER yeaah ma fe yn wir. ( oh well.\n",
              "3      1               @USER hahaha idk. 3am oedd y bws ti?\n",
              "4      0                      @USER dwim yn gal llun ohoni?"
            ]
          },
          "execution_count": 4,
          "metadata": {},
          "output_type": "execute_result"
        }
      ],
      "source": [
        "# Look at the top 5 rows of data, label 0 is negative while label 1 is positive\n",
        "data.head()"
      ]
    },
    {
      "cell_type": "code",
      "execution_count": null,
      "metadata": {
        "colab": {
          "base_uri": "https://localhost:8080/"
        },
        "id": "4njTdSsmEB_P",
        "outputId": "aae05dc4-c8f9-47d7-8838-25f2d9f04caa"
      },
      "outputs": [
        {
          "data": {
            "text/plain": [
              "False"
            ]
          },
          "execution_count": 4,
          "metadata": {},
          "output_type": "execute_result"
        }
      ],
      "source": [
        "# Check null value\n",
        "data.isnull().values.any()"
      ]
    },
    {
      "cell_type": "code",
      "execution_count": null,
      "metadata": {
        "colab": {
          "base_uri": "https://localhost:8080/"
        },
        "id": "hWFX6yM1EQw8",
        "outputId": "69495746-ca66-4388-e77b-998b98f3b65f"
      },
      "outputs": [
        {
          "data": {
            "text/plain": [
              "(78609, 2)"
            ]
          },
          "execution_count": 5,
          "metadata": {},
          "output_type": "execute_result"
        }
      ],
      "source": [
        "# Check data rows and columns\n",
        "data.shape"
      ]
    },
    {
      "cell_type": "code",
      "execution_count": null,
      "metadata": {
        "id": "vPsH4vNBFz0c"
      },
      "outputs": [],
      "source": [
        "# Define feature in X, Label in y\n",
        "X, y = data['sentence'], data['label']"
      ]
    },
    {
      "cell_type": "code",
      "execution_count": null,
      "metadata": {
        "id": "oYNcPLJ1F-iL"
      },
      "outputs": [],
      "source": [
        "# Split data to train set 80% and test set 20%\n",
        "X_train, X_other, y_train, y_other = train_test_split(X, y, test_size=0.20, random_state=42)"
      ]
    },
    {
      "cell_type": "code",
      "execution_count": null,
      "metadata": {
        "id": "HRuVoWjsKxEa"
      },
      "outputs": [],
      "source": [
        "# Split test set to create validation set by 50%\n",
        "X_dev, X_test, y_dev, y_test = train_test_split(X_other, y_other, test_size=0.5, random_state=42)"
      ]
    },
    {
      "cell_type": "code",
      "execution_count": null,
      "metadata": {
        "id": "D_y2EY-2Kybk"
      },
      "outputs": [],
      "source": [
        "tokenizer = Tokenizer(num_words=50000)\n",
        "tokenizer.fit_on_texts(X_train)\n",
        "\n",
        "X_train_tok = tokenizer.texts_to_sequences(X_train)\n",
        "X_dev_tok = tokenizer.texts_to_sequences(X_dev)\n",
        "X_test_tok = tokenizer.texts_to_sequences(X_test)"
      ]
    },
    {
      "cell_type": "code",
      "execution_count": null,
      "metadata": {
        "colab": {
          "base_uri": "https://localhost:8080/"
        },
        "id": "6uO0k11BLPDP",
        "outputId": "a8a4b40d-ea1d-4e1b-ac0b-6959887678d2"
      },
      "outputs": [
        {
          "data": {
            "text/plain": [
              "[100, 60, 2777, 27, 2, 791, 2764, 5, 317]"
            ]
          },
          "execution_count": 9,
          "metadata": {},
          "output_type": "execute_result"
        }
      ],
      "source": [
        "X_train_tok[60000]"
      ]
    },
    {
      "cell_type": "code",
      "execution_count": null,
      "metadata": {
        "id": "edRmcXx9LRNY"
      },
      "outputs": [],
      "source": [
        "for item in X_train_tok:\n",
        "  if 50000 in item:\n",
        "    print(\"True\")"
      ]
    },
    {
      "cell_type": "code",
      "execution_count": null,
      "metadata": {
        "colab": {
          "base_uri": "https://localhost:8080/"
        },
        "id": "Z-nyjGgbLS-0",
        "outputId": "b87335f8-c0aa-4b8a-cb62-210310548729"
      },
      "outputs": [
        {
          "data": {
            "text/plain": [
              "61245"
            ]
          },
          "execution_count": 10,
          "metadata": {},
          "output_type": "execute_result"
        }
      ],
      "source": [
        "len(tokenizer.word_index)"
      ]
    },
    {
      "cell_type": "code",
      "execution_count": null,
      "metadata": {
        "id": "-U8pa2TXOVzG"
      },
      "outputs": [],
      "source": [
        "vocab_size = len(tokenizer.word_index) + 1\n",
        "\n",
        "maxlen = 100\n",
        "\n",
        "X_train_pad = pad_sequences(X_train_tok, padding='post', maxlen=maxlen)\n",
        "X_dev_pad = pad_sequences(X_dev_tok, padding='post', maxlen=maxlen)\n",
        "X_test_pad = pad_sequences(X_test_tok, padding='post', maxlen=maxlen)"
      ]
    },
    {
      "cell_type": "markdown",
      "metadata": {
        "id": "6jQPSyh5OyXH"
      },
      "source": [
        "**Method 1 : K Nearest-Neighbor**"
      ]
    },
    {
      "cell_type": "markdown",
      "metadata": {
        "id": "ORuB7WFAPFbp"
      },
      "source": [
        "1.1 Perform K-fold cross-validation and hyper-parameter tuning on training data."
      ]
    },
    {
      "cell_type": "code",
      "execution_count": null,
      "metadata": {
        "colab": {
          "base_uri": "https://localhost:8080/"
        },
        "id": "PlSEtzkVOqlF",
        "outputId": "619d518e-00ac-412b-a346-66f911b31ddd"
      },
      "outputs": [
        {
          "name": "stderr",
          "output_type": "stream",
          "text": [
            "/usr/local/lib/python3.7/dist-packages/ipykernel_launcher.py:16: DeprecationWarning: `np.float` is a deprecated alias for the builtin `float`. To silence this warning, use `float` by itself. Doing this will not modify any behavior and is safe. If you specifically wanted the numpy scalar type, use `np.float64` here.\n",
            "Deprecated in NumPy 1.20; for more details and guidance: https://numpy.org/devdocs/release/1.20.0-notes.html#deprecations\n",
            "  app.launch_new_instance()\n"
          ]
        },
        {
          "name": "stdout",
          "output_type": "stream",
          "text": [
            "Fitting 10 folds for each of 1 candidates, totalling 10 fits\n",
            "Parameter tuning finishes in 51.17181062698364 seconds:\n"
          ]
        }
      ],
      "source": [
        "from sklearn.model_selection import GridSearchCV\n",
        "from sklearn.neighbors import KNeighborsClassifier\n",
        "\n",
        "# Define n_neighbors in param_grid to run the GridSearchCV\n",
        "n_neighbors = [int(x) for x in np.linspace(1, 15, num = 1)]\n",
        "param_grid = {'n_neighbors':n_neighbors}\n",
        "\n",
        "import time\n",
        "start = time.time()\n",
        "\n",
        "# Initial KNN model\n",
        "estimator = KNeighborsClassifier()\n",
        "\n",
        "# Run GridSearchCV with param_grid\n",
        "knn_search = GridSearchCV(estimator, param_grid, cv=10, n_jobs = 1, verbose=1)\n",
        "knn_search.fit(X_train_pad, y_train.astype(np.float))\n",
        "\n",
        "# Estimate CV running time for each parameter\n",
        "end = time.time()\n",
        "time_duration = end-start\n",
        "print(\"Parameter tuning finishes in {} seconds:\".format(time_duration))\n",
        "\n",
        "# estimated running time for 10-fold CV (weights:uniform) is ~55 sec\n",
        "# Parameter tuning : estimated running time for 15-fold CV (weights:uniform) is ~61 sec\n",
        "# So we choose 10-fold to process"
      ]
    },
    {
      "cell_type": "markdown",
      "metadata": {
        "id": "V-ymwMF2QBSA"
      },
      "source": [
        "1.2 Select the best model derived and train the model on the training dataset"
      ]
    },
    {
      "cell_type": "code",
      "execution_count": null,
      "metadata": {
        "colab": {
          "base_uri": "https://localhost:8080/"
        },
        "id": "nbTl5XhDQDtQ",
        "outputId": "25125bf0-31af-4cf8-8e35-64bb76231465"
      },
      "outputs": [
        {
          "data": {
            "text/plain": [
              "KNeighborsClassifier(n_neighbors=1)"
            ]
          },
          "execution_count": 15,
          "metadata": {},
          "output_type": "execute_result"
        }
      ],
      "source": [
        "# Get the best model with best parameter cross validation\n",
        "best_model_knn = knn_search.best_estimator_\n",
        "best_model_knn.fit(X_train_pad, y_train)"
      ]
    },
    {
      "cell_type": "markdown",
      "metadata": {
        "id": "hS3rYiJuQ3XU"
      },
      "source": [
        "1.3 Predict the train data classes and Calculate the accuracy of the predictions"
      ]
    },
    {
      "cell_type": "code",
      "execution_count": null,
      "metadata": {
        "colab": {
          "base_uri": "https://localhost:8080/"
        },
        "id": "HJg-bqNVQ4nb",
        "outputId": "9b741d78-06f5-4273-fcda-e260897cc723"
      },
      "outputs": [
        {
          "name": "stdout",
          "output_type": "stream",
          "text": [
            "Accuracy on Validation set 0.51037 (51.037%)\n"
          ]
        }
      ],
      "source": [
        "from sklearn.metrics import accuracy_score, precision_score, recall_score, roc_auc_score, f1_score \n",
        "\n",
        "# Find predicted value from validation data\n",
        "predicted_valid_label_knn = best_model_knn.predict(X_dev_pad)\n",
        "\n",
        "# Evaluate on validation data\n",
        "knn_val_acc = accuracy_score(y_dev, predicted_valid_label_knn)\n",
        "print('Accuracy on Validation set {:.5f} ({:.3f}%)'.format(knn_val_acc, knn_val_acc*100))"
      ]
    },
    {
      "cell_type": "code",
      "execution_count": null,
      "metadata": {
        "colab": {
          "base_uri": "https://localhost:8080/"
        },
        "id": "QxPCQkwFSXRl",
        "outputId": "179ceb36-71ea-4f39-e9e8-c7e8d03c4b47"
      },
      "outputs": [
        {
          "name": "stdout",
          "output_type": "stream",
          "text": [
            "Accuracy on Test set 0.51418 (51.418%)\n"
          ]
        }
      ],
      "source": [
        "# Find predicted value from test data\n",
        "predicted_test_label_knn = best_model_knn.predict(X_test_pad)\n",
        "\n",
        "# Evaluate on test data\n",
        "knn_test_acc = accuracy_score(y_test, predicted_test_label_knn)\n",
        "print('Accuracy on Test set {:.5f} ({:.3f}%)'.format(knn_test_acc, knn_test_acc*100))"
      ]
    },
    {
      "cell_type": "markdown",
      "metadata": {
        "id": "Ls-AZbD6Usip"
      },
      "source": [
        "**Method 2 : Decision Tree**"
      ]
    },
    {
      "cell_type": "markdown",
      "metadata": {
        "id": "xegeTZw6U4YS"
      },
      "source": [
        "2.1 .1 Perform K-fold cross-validation and hyper-parameter tuning on training data"
      ]
    },
    {
      "cell_type": "code",
      "execution_count": null,
      "metadata": {
        "colab": {
          "base_uri": "https://localhost:8080/"
        },
        "id": "TPRfNEHTUwmR",
        "outputId": "597f746e-ce82-49e9-bd04-723807fd6134"
      },
      "outputs": [
        {
          "name": "stdout",
          "output_type": "stream",
          "text": [
            "Fitting 3 folds for each of 144 candidates, totalling 432 fits\n",
            "[CV 1/3] END max_depth=3, max_features=auto, min_samples_leaf=1, min_samples_split=2;, score=0.511 total time=   0.1s\n",
            "[CV 2/3] END max_depth=3, max_features=auto, min_samples_leaf=1, min_samples_split=2;, score=0.525 total time=   0.1s\n",
            "[CV 3/3] END max_depth=3, max_features=auto, min_samples_leaf=1, min_samples_split=2;, score=0.526 total time=   0.1s\n",
            "[CV 1/3] END max_depth=3, max_features=auto, min_samples_leaf=1, min_samples_split=4;, score=0.511 total time=   0.1s\n",
            "[CV 2/3] END max_depth=3, max_features=auto, min_samples_leaf=1, min_samples_split=4;, score=0.525 total time=   0.1s\n",
            "[CV 3/3] END max_depth=3, max_features=auto, min_samples_leaf=1, min_samples_split=4;, score=0.526 total time=   0.1s\n",
            "[CV 1/3] END max_depth=3, max_features=auto, min_samples_leaf=1, min_samples_split=5;, score=0.511 total time=   0.1s\n",
            "[CV 2/3] END max_depth=3, max_features=auto, min_samples_leaf=1, min_samples_split=5;, score=0.525 total time=   0.1s\n",
            "[CV 3/3] END max_depth=3, max_features=auto, min_samples_leaf=1, min_samples_split=5;, score=0.526 total time=   0.1s\n",
            "[CV 1/3] END max_depth=3, max_features=auto, min_samples_leaf=1, min_samples_split=7;, score=0.511 total time=   0.1s\n",
            "[CV 2/3] END max_depth=3, max_features=auto, min_samples_leaf=1, min_samples_split=7;, score=0.525 total time=   0.1s\n",
            "[CV 3/3] END max_depth=3, max_features=auto, min_samples_leaf=1, min_samples_split=7;, score=0.526 total time=   0.1s\n",
            "[CV 1/3] END max_depth=3, max_features=auto, min_samples_leaf=3, min_samples_split=2;, score=0.511 total time=   0.1s\n",
            "[CV 2/3] END max_depth=3, max_features=auto, min_samples_leaf=3, min_samples_split=2;, score=0.525 total time=   0.1s\n",
            "[CV 3/3] END max_depth=3, max_features=auto, min_samples_leaf=3, min_samples_split=2;, score=0.526 total time=   0.1s\n",
            "[CV 1/3] END max_depth=3, max_features=auto, min_samples_leaf=3, min_samples_split=4;, score=0.511 total time=   0.1s\n",
            "[CV 2/3] END max_depth=3, max_features=auto, min_samples_leaf=3, min_samples_split=4;, score=0.525 total time=   0.1s\n",
            "[CV 3/3] END max_depth=3, max_features=auto, min_samples_leaf=3, min_samples_split=4;, score=0.526 total time=   0.1s\n",
            "[CV 1/3] END max_depth=3, max_features=auto, min_samples_leaf=3, min_samples_split=5;, score=0.511 total time=   0.1s\n",
            "[CV 2/3] END max_depth=3, max_features=auto, min_samples_leaf=3, min_samples_split=5;, score=0.525 total time=   0.1s\n",
            "[CV 3/3] END max_depth=3, max_features=auto, min_samples_leaf=3, min_samples_split=5;, score=0.526 total time=   0.1s\n",
            "[CV 1/3] END max_depth=3, max_features=auto, min_samples_leaf=3, min_samples_split=7;, score=0.511 total time=   0.1s\n",
            "[CV 2/3] END max_depth=3, max_features=auto, min_samples_leaf=3, min_samples_split=7;, score=0.525 total time=   0.1s\n",
            "[CV 3/3] END max_depth=3, max_features=auto, min_samples_leaf=3, min_samples_split=7;, score=0.526 total time=   0.1s\n",
            "[CV 1/3] END max_depth=3, max_features=auto, min_samples_leaf=4, min_samples_split=2;, score=0.511 total time=   0.1s\n",
            "[CV 2/3] END max_depth=3, max_features=auto, min_samples_leaf=4, min_samples_split=2;, score=0.525 total time=   0.1s\n",
            "[CV 3/3] END max_depth=3, max_features=auto, min_samples_leaf=4, min_samples_split=2;, score=0.526 total time=   0.1s\n",
            "[CV 1/3] END max_depth=3, max_features=auto, min_samples_leaf=4, min_samples_split=4;, score=0.511 total time=   0.1s\n",
            "[CV 2/3] END max_depth=3, max_features=auto, min_samples_leaf=4, min_samples_split=4;, score=0.525 total time=   0.1s\n",
            "[CV 3/3] END max_depth=3, max_features=auto, min_samples_leaf=4, min_samples_split=4;, score=0.526 total time=   0.1s\n",
            "[CV 1/3] END max_depth=3, max_features=auto, min_samples_leaf=4, min_samples_split=5;, score=0.511 total time=   0.1s\n",
            "[CV 2/3] END max_depth=3, max_features=auto, min_samples_leaf=4, min_samples_split=5;, score=0.525 total time=   0.1s\n",
            "[CV 3/3] END max_depth=3, max_features=auto, min_samples_leaf=4, min_samples_split=5;, score=0.526 total time=   0.1s\n",
            "[CV 1/3] END max_depth=3, max_features=auto, min_samples_leaf=4, min_samples_split=7;, score=0.511 total time=   0.1s\n",
            "[CV 2/3] END max_depth=3, max_features=auto, min_samples_leaf=4, min_samples_split=7;, score=0.525 total time=   0.1s\n",
            "[CV 3/3] END max_depth=3, max_features=auto, min_samples_leaf=4, min_samples_split=7;, score=0.526 total time=   0.1s\n",
            "[CV 1/3] END max_depth=3, max_features=auto, min_samples_leaf=5, min_samples_split=2;, score=0.511 total time=   0.1s\n",
            "[CV 2/3] END max_depth=3, max_features=auto, min_samples_leaf=5, min_samples_split=2;, score=0.525 total time=   0.1s\n",
            "[CV 3/3] END max_depth=3, max_features=auto, min_samples_leaf=5, min_samples_split=2;, score=0.526 total time=   0.1s\n",
            "[CV 1/3] END max_depth=3, max_features=auto, min_samples_leaf=5, min_samples_split=4;, score=0.511 total time=   0.1s\n",
            "[CV 2/3] END max_depth=3, max_features=auto, min_samples_leaf=5, min_samples_split=4;, score=0.525 total time=   0.1s\n",
            "[CV 3/3] END max_depth=3, max_features=auto, min_samples_leaf=5, min_samples_split=4;, score=0.526 total time=   0.1s\n",
            "[CV 1/3] END max_depth=3, max_features=auto, min_samples_leaf=5, min_samples_split=5;, score=0.511 total time=   0.1s\n",
            "[CV 2/3] END max_depth=3, max_features=auto, min_samples_leaf=5, min_samples_split=5;, score=0.525 total time=   0.1s\n",
            "[CV 3/3] END max_depth=3, max_features=auto, min_samples_leaf=5, min_samples_split=5;, score=0.526 total time=   0.1s\n",
            "[CV 1/3] END max_depth=3, max_features=auto, min_samples_leaf=5, min_samples_split=7;, score=0.511 total time=   0.1s\n",
            "[CV 2/3] END max_depth=3, max_features=auto, min_samples_leaf=5, min_samples_split=7;, score=0.525 total time=   0.1s\n",
            "[CV 3/3] END max_depth=3, max_features=auto, min_samples_leaf=5, min_samples_split=7;, score=0.526 total time=   0.1s\n",
            "[CV 1/3] END max_depth=3, max_features=sqrt, min_samples_leaf=1, min_samples_split=2;, score=0.511 total time=   0.1s\n",
            "[CV 2/3] END max_depth=3, max_features=sqrt, min_samples_leaf=1, min_samples_split=2;, score=0.525 total time=   0.1s\n",
            "[CV 3/3] END max_depth=3, max_features=sqrt, min_samples_leaf=1, min_samples_split=2;, score=0.526 total time=   0.1s\n",
            "[CV 1/3] END max_depth=3, max_features=sqrt, min_samples_leaf=1, min_samples_split=4;, score=0.511 total time=   0.1s\n",
            "[CV 2/3] END max_depth=3, max_features=sqrt, min_samples_leaf=1, min_samples_split=4;, score=0.525 total time=   0.1s\n",
            "[CV 3/3] END max_depth=3, max_features=sqrt, min_samples_leaf=1, min_samples_split=4;, score=0.526 total time=   0.1s\n",
            "[CV 1/3] END max_depth=3, max_features=sqrt, min_samples_leaf=1, min_samples_split=5;, score=0.511 total time=   0.1s\n",
            "[CV 2/3] END max_depth=3, max_features=sqrt, min_samples_leaf=1, min_samples_split=5;, score=0.525 total time=   0.1s\n",
            "[CV 3/3] END max_depth=3, max_features=sqrt, min_samples_leaf=1, min_samples_split=5;, score=0.526 total time=   0.1s\n",
            "[CV 1/3] END max_depth=3, max_features=sqrt, min_samples_leaf=1, min_samples_split=7;, score=0.511 total time=   0.1s\n",
            "[CV 2/3] END max_depth=3, max_features=sqrt, min_samples_leaf=1, min_samples_split=7;, score=0.525 total time=   0.1s\n",
            "[CV 3/3] END max_depth=3, max_features=sqrt, min_samples_leaf=1, min_samples_split=7;, score=0.526 total time=   0.1s\n",
            "[CV 1/3] END max_depth=3, max_features=sqrt, min_samples_leaf=3, min_samples_split=2;, score=0.511 total time=   0.1s\n",
            "[CV 2/3] END max_depth=3, max_features=sqrt, min_samples_leaf=3, min_samples_split=2;, score=0.525 total time=   0.1s\n",
            "[CV 3/3] END max_depth=3, max_features=sqrt, min_samples_leaf=3, min_samples_split=2;, score=0.526 total time=   0.1s\n",
            "[CV 1/3] END max_depth=3, max_features=sqrt, min_samples_leaf=3, min_samples_split=4;, score=0.511 total time=   0.1s\n",
            "[CV 2/3] END max_depth=3, max_features=sqrt, min_samples_leaf=3, min_samples_split=4;, score=0.525 total time=   0.1s\n",
            "[CV 3/3] END max_depth=3, max_features=sqrt, min_samples_leaf=3, min_samples_split=4;, score=0.526 total time=   0.1s\n",
            "[CV 1/3] END max_depth=3, max_features=sqrt, min_samples_leaf=3, min_samples_split=5;, score=0.511 total time=   0.1s\n",
            "[CV 2/3] END max_depth=3, max_features=sqrt, min_samples_leaf=3, min_samples_split=5;, score=0.525 total time=   0.1s\n",
            "[CV 3/3] END max_depth=3, max_features=sqrt, min_samples_leaf=3, min_samples_split=5;, score=0.526 total time=   0.1s\n",
            "[CV 1/3] END max_depth=3, max_features=sqrt, min_samples_leaf=3, min_samples_split=7;, score=0.511 total time=   0.1s\n",
            "[CV 2/3] END max_depth=3, max_features=sqrt, min_samples_leaf=3, min_samples_split=7;, score=0.525 total time=   0.1s\n",
            "[CV 3/3] END max_depth=3, max_features=sqrt, min_samples_leaf=3, min_samples_split=7;, score=0.526 total time=   0.1s\n",
            "[CV 1/3] END max_depth=3, max_features=sqrt, min_samples_leaf=4, min_samples_split=2;, score=0.511 total time=   0.1s\n",
            "[CV 2/3] END max_depth=3, max_features=sqrt, min_samples_leaf=4, min_samples_split=2;, score=0.525 total time=   0.1s\n",
            "[CV 3/3] END max_depth=3, max_features=sqrt, min_samples_leaf=4, min_samples_split=2;, score=0.526 total time=   0.1s\n",
            "[CV 1/3] END max_depth=3, max_features=sqrt, min_samples_leaf=4, min_samples_split=4;, score=0.511 total time=   0.1s\n",
            "[CV 2/3] END max_depth=3, max_features=sqrt, min_samples_leaf=4, min_samples_split=4;, score=0.525 total time=   0.1s\n",
            "[CV 3/3] END max_depth=3, max_features=sqrt, min_samples_leaf=4, min_samples_split=4;, score=0.526 total time=   0.1s\n",
            "[CV 1/3] END max_depth=3, max_features=sqrt, min_samples_leaf=4, min_samples_split=5;, score=0.511 total time=   0.1s\n",
            "[CV 2/3] END max_depth=3, max_features=sqrt, min_samples_leaf=4, min_samples_split=5;, score=0.525 total time=   0.1s\n",
            "[CV 3/3] END max_depth=3, max_features=sqrt, min_samples_leaf=4, min_samples_split=5;, score=0.526 total time=   0.1s\n",
            "[CV 1/3] END max_depth=3, max_features=sqrt, min_samples_leaf=4, min_samples_split=7;, score=0.511 total time=   0.1s\n",
            "[CV 2/3] END max_depth=3, max_features=sqrt, min_samples_leaf=4, min_samples_split=7;, score=0.525 total time=   0.1s\n",
            "[CV 3/3] END max_depth=3, max_features=sqrt, min_samples_leaf=4, min_samples_split=7;, score=0.526 total time=   0.1s\n",
            "[CV 1/3] END max_depth=3, max_features=sqrt, min_samples_leaf=5, min_samples_split=2;, score=0.511 total time=   0.1s\n",
            "[CV 2/3] END max_depth=3, max_features=sqrt, min_samples_leaf=5, min_samples_split=2;, score=0.525 total time=   0.1s\n",
            "[CV 3/3] END max_depth=3, max_features=sqrt, min_samples_leaf=5, min_samples_split=2;, score=0.526 total time=   0.1s\n",
            "[CV 1/3] END max_depth=3, max_features=sqrt, min_samples_leaf=5, min_samples_split=4;, score=0.511 total time=   0.1s\n",
            "[CV 2/3] END max_depth=3, max_features=sqrt, min_samples_leaf=5, min_samples_split=4;, score=0.525 total time=   0.1s\n",
            "[CV 3/3] END max_depth=3, max_features=sqrt, min_samples_leaf=5, min_samples_split=4;, score=0.526 total time=   0.1s\n",
            "[CV 1/3] END max_depth=3, max_features=sqrt, min_samples_leaf=5, min_samples_split=5;, score=0.511 total time=   0.1s\n",
            "[CV 2/3] END max_depth=3, max_features=sqrt, min_samples_leaf=5, min_samples_split=5;, score=0.525 total time=   0.1s\n",
            "[CV 3/3] END max_depth=3, max_features=sqrt, min_samples_leaf=5, min_samples_split=5;, score=0.526 total time=   0.1s\n",
            "[CV 1/3] END max_depth=3, max_features=sqrt, min_samples_leaf=5, min_samples_split=7;, score=0.511 total time=   0.1s\n",
            "[CV 2/3] END max_depth=3, max_features=sqrt, min_samples_leaf=5, min_samples_split=7;, score=0.525 total time=   0.1s\n",
            "[CV 3/3] END max_depth=3, max_features=sqrt, min_samples_leaf=5, min_samples_split=7;, score=0.526 total time=   0.1s\n",
            "[CV 1/3] END max_depth=3, max_features=log2, min_samples_leaf=1, min_samples_split=2;, score=0.511 total time=   0.1s\n",
            "[CV 2/3] END max_depth=3, max_features=log2, min_samples_leaf=1, min_samples_split=2;, score=0.507 total time=   0.1s\n",
            "[CV 3/3] END max_depth=3, max_features=log2, min_samples_leaf=1, min_samples_split=2;, score=0.509 total time=   0.1s\n",
            "[CV 1/3] END max_depth=3, max_features=log2, min_samples_leaf=1, min_samples_split=4;, score=0.511 total time=   0.1s\n",
            "[CV 2/3] END max_depth=3, max_features=log2, min_samples_leaf=1, min_samples_split=4;, score=0.507 total time=   0.1s\n",
            "[CV 3/3] END max_depth=3, max_features=log2, min_samples_leaf=1, min_samples_split=4;, score=0.509 total time=   0.1s\n",
            "[CV 1/3] END max_depth=3, max_features=log2, min_samples_leaf=1, min_samples_split=5;, score=0.511 total time=   0.1s\n",
            "[CV 2/3] END max_depth=3, max_features=log2, min_samples_leaf=1, min_samples_split=5;, score=0.507 total time=   0.1s\n",
            "[CV 3/3] END max_depth=3, max_features=log2, min_samples_leaf=1, min_samples_split=5;, score=0.509 total time=   0.1s\n",
            "[CV 1/3] END max_depth=3, max_features=log2, min_samples_leaf=1, min_samples_split=7;, score=0.511 total time=   0.1s\n",
            "[CV 2/3] END max_depth=3, max_features=log2, min_samples_leaf=1, min_samples_split=7;, score=0.507 total time=   0.1s\n",
            "[CV 3/3] END max_depth=3, max_features=log2, min_samples_leaf=1, min_samples_split=7;, score=0.509 total time=   0.1s\n",
            "[CV 1/3] END max_depth=3, max_features=log2, min_samples_leaf=3, min_samples_split=2;, score=0.511 total time=   0.1s\n",
            "[CV 2/3] END max_depth=3, max_features=log2, min_samples_leaf=3, min_samples_split=2;, score=0.507 total time=   0.1s\n",
            "[CV 3/3] END max_depth=3, max_features=log2, min_samples_leaf=3, min_samples_split=2;, score=0.509 total time=   0.1s\n",
            "[CV 1/3] END max_depth=3, max_features=log2, min_samples_leaf=3, min_samples_split=4;, score=0.511 total time=   0.1s\n",
            "[CV 2/3] END max_depth=3, max_features=log2, min_samples_leaf=3, min_samples_split=4;, score=0.507 total time=   0.1s\n",
            "[CV 3/3] END max_depth=3, max_features=log2, min_samples_leaf=3, min_samples_split=4;, score=0.509 total time=   0.1s\n",
            "[CV 1/3] END max_depth=3, max_features=log2, min_samples_leaf=3, min_samples_split=5;, score=0.511 total time=   0.1s\n",
            "[CV 2/3] END max_depth=3, max_features=log2, min_samples_leaf=3, min_samples_split=5;, score=0.507 total time=   0.1s\n",
            "[CV 3/3] END max_depth=3, max_features=log2, min_samples_leaf=3, min_samples_split=5;, score=0.509 total time=   0.1s\n",
            "[CV 1/3] END max_depth=3, max_features=log2, min_samples_leaf=3, min_samples_split=7;, score=0.511 total time=   0.1s\n",
            "[CV 2/3] END max_depth=3, max_features=log2, min_samples_leaf=3, min_samples_split=7;, score=0.507 total time=   0.1s\n",
            "[CV 3/3] END max_depth=3, max_features=log2, min_samples_leaf=3, min_samples_split=7;, score=0.509 total time=   0.1s\n",
            "[CV 1/3] END max_depth=3, max_features=log2, min_samples_leaf=4, min_samples_split=2;, score=0.511 total time=   0.1s\n",
            "[CV 2/3] END max_depth=3, max_features=log2, min_samples_leaf=4, min_samples_split=2;, score=0.507 total time=   0.1s\n",
            "[CV 3/3] END max_depth=3, max_features=log2, min_samples_leaf=4, min_samples_split=2;, score=0.509 total time=   0.1s\n",
            "[CV 1/3] END max_depth=3, max_features=log2, min_samples_leaf=4, min_samples_split=4;, score=0.511 total time=   0.1s\n",
            "[CV 2/3] END max_depth=3, max_features=log2, min_samples_leaf=4, min_samples_split=4;, score=0.507 total time=   0.1s\n",
            "[CV 3/3] END max_depth=3, max_features=log2, min_samples_leaf=4, min_samples_split=4;, score=0.509 total time=   0.1s\n",
            "[CV 1/3] END max_depth=3, max_features=log2, min_samples_leaf=4, min_samples_split=5;, score=0.511 total time=   0.1s\n",
            "[CV 2/3] END max_depth=3, max_features=log2, min_samples_leaf=4, min_samples_split=5;, score=0.507 total time=   0.1s\n",
            "[CV 3/3] END max_depth=3, max_features=log2, min_samples_leaf=4, min_samples_split=5;, score=0.509 total time=   0.1s\n",
            "[CV 1/3] END max_depth=3, max_features=log2, min_samples_leaf=4, min_samples_split=7;, score=0.511 total time=   0.1s\n",
            "[CV 2/3] END max_depth=3, max_features=log2, min_samples_leaf=4, min_samples_split=7;, score=0.507 total time=   0.1s\n",
            "[CV 3/3] END max_depth=3, max_features=log2, min_samples_leaf=4, min_samples_split=7;, score=0.509 total time=   0.1s\n",
            "[CV 1/3] END max_depth=3, max_features=log2, min_samples_leaf=5, min_samples_split=2;, score=0.512 total time=   0.1s\n",
            "[CV 2/3] END max_depth=3, max_features=log2, min_samples_leaf=5, min_samples_split=2;, score=0.507 total time=   0.1s\n",
            "[CV 3/3] END max_depth=3, max_features=log2, min_samples_leaf=5, min_samples_split=2;, score=0.509 total time=   0.1s\n",
            "[CV 1/3] END max_depth=3, max_features=log2, min_samples_leaf=5, min_samples_split=4;, score=0.512 total time=   0.1s\n",
            "[CV 2/3] END max_depth=3, max_features=log2, min_samples_leaf=5, min_samples_split=4;, score=0.507 total time=   0.1s\n",
            "[CV 3/3] END max_depth=3, max_features=log2, min_samples_leaf=5, min_samples_split=4;, score=0.509 total time=   0.1s\n",
            "[CV 1/3] END max_depth=3, max_features=log2, min_samples_leaf=5, min_samples_split=5;, score=0.512 total time=   0.1s\n",
            "[CV 2/3] END max_depth=3, max_features=log2, min_samples_leaf=5, min_samples_split=5;, score=0.507 total time=   0.1s\n",
            "[CV 3/3] END max_depth=3, max_features=log2, min_samples_leaf=5, min_samples_split=5;, score=0.509 total time=   0.1s\n",
            "[CV 1/3] END max_depth=3, max_features=log2, min_samples_leaf=5, min_samples_split=7;, score=0.512 total time=   0.1s\n",
            "[CV 2/3] END max_depth=3, max_features=log2, min_samples_leaf=5, min_samples_split=7;, score=0.507 total time=   0.1s\n",
            "[CV 3/3] END max_depth=3, max_features=log2, min_samples_leaf=5, min_samples_split=7;, score=0.509 total time=   0.1s\n",
            "[CV 1/3] END max_depth=4, max_features=auto, min_samples_leaf=1, min_samples_split=2;, score=0.508 total time=   0.1s\n",
            "[CV 2/3] END max_depth=4, max_features=auto, min_samples_leaf=1, min_samples_split=2;, score=0.509 total time=   0.1s\n",
            "[CV 3/3] END max_depth=4, max_features=auto, min_samples_leaf=1, min_samples_split=2;, score=0.508 total time=   0.1s\n",
            "[CV 1/3] END max_depth=4, max_features=auto, min_samples_leaf=1, min_samples_split=4;, score=0.508 total time=   0.1s\n",
            "[CV 2/3] END max_depth=4, max_features=auto, min_samples_leaf=1, min_samples_split=4;, score=0.509 total time=   0.1s\n",
            "[CV 3/3] END max_depth=4, max_features=auto, min_samples_leaf=1, min_samples_split=4;, score=0.508 total time=   0.1s\n",
            "[CV 1/3] END max_depth=4, max_features=auto, min_samples_leaf=1, min_samples_split=5;, score=0.508 total time=   0.1s\n",
            "[CV 2/3] END max_depth=4, max_features=auto, min_samples_leaf=1, min_samples_split=5;, score=0.509 total time=   0.1s\n",
            "[CV 3/3] END max_depth=4, max_features=auto, min_samples_leaf=1, min_samples_split=5;, score=0.508 total time=   0.1s\n",
            "[CV 1/3] END max_depth=4, max_features=auto, min_samples_leaf=1, min_samples_split=7;, score=0.508 total time=   0.1s\n",
            "[CV 2/3] END max_depth=4, max_features=auto, min_samples_leaf=1, min_samples_split=7;, score=0.509 total time=   0.1s\n",
            "[CV 3/3] END max_depth=4, max_features=auto, min_samples_leaf=1, min_samples_split=7;, score=0.508 total time=   0.1s\n",
            "[CV 1/3] END max_depth=4, max_features=auto, min_samples_leaf=3, min_samples_split=2;, score=0.508 total time=   0.1s\n",
            "[CV 2/3] END max_depth=4, max_features=auto, min_samples_leaf=3, min_samples_split=2;, score=0.509 total time=   0.1s\n",
            "[CV 3/3] END max_depth=4, max_features=auto, min_samples_leaf=3, min_samples_split=2;, score=0.508 total time=   0.1s\n",
            "[CV 1/3] END max_depth=4, max_features=auto, min_samples_leaf=3, min_samples_split=4;, score=0.508 total time=   0.1s\n",
            "[CV 2/3] END max_depth=4, max_features=auto, min_samples_leaf=3, min_samples_split=4;, score=0.509 total time=   0.1s\n",
            "[CV 3/3] END max_depth=4, max_features=auto, min_samples_leaf=3, min_samples_split=4;, score=0.508 total time=   0.1s\n",
            "[CV 1/3] END max_depth=4, max_features=auto, min_samples_leaf=3, min_samples_split=5;, score=0.508 total time=   0.1s\n",
            "[CV 2/3] END max_depth=4, max_features=auto, min_samples_leaf=3, min_samples_split=5;, score=0.509 total time=   0.1s\n",
            "[CV 3/3] END max_depth=4, max_features=auto, min_samples_leaf=3, min_samples_split=5;, score=0.508 total time=   0.1s\n",
            "[CV 1/3] END max_depth=4, max_features=auto, min_samples_leaf=3, min_samples_split=7;, score=0.508 total time=   0.1s\n",
            "[CV 2/3] END max_depth=4, max_features=auto, min_samples_leaf=3, min_samples_split=7;, score=0.509 total time=   0.1s\n",
            "[CV 3/3] END max_depth=4, max_features=auto, min_samples_leaf=3, min_samples_split=7;, score=0.508 total time=   0.1s\n",
            "[CV 1/3] END max_depth=4, max_features=auto, min_samples_leaf=4, min_samples_split=2;, score=0.508 total time=   0.1s\n",
            "[CV 2/3] END max_depth=4, max_features=auto, min_samples_leaf=4, min_samples_split=2;, score=0.509 total time=   0.1s\n",
            "[CV 3/3] END max_depth=4, max_features=auto, min_samples_leaf=4, min_samples_split=2;, score=0.508 total time=   0.1s\n",
            "[CV 1/3] END max_depth=4, max_features=auto, min_samples_leaf=4, min_samples_split=4;, score=0.508 total time=   0.1s\n",
            "[CV 2/3] END max_depth=4, max_features=auto, min_samples_leaf=4, min_samples_split=4;, score=0.509 total time=   0.1s\n",
            "[CV 3/3] END max_depth=4, max_features=auto, min_samples_leaf=4, min_samples_split=4;, score=0.508 total time=   0.1s\n",
            "[CV 1/3] END max_depth=4, max_features=auto, min_samples_leaf=4, min_samples_split=5;, score=0.508 total time=   0.1s\n",
            "[CV 2/3] END max_depth=4, max_features=auto, min_samples_leaf=4, min_samples_split=5;, score=0.509 total time=   0.1s\n",
            "[CV 3/3] END max_depth=4, max_features=auto, min_samples_leaf=4, min_samples_split=5;, score=0.508 total time=   0.1s\n",
            "[CV 1/3] END max_depth=4, max_features=auto, min_samples_leaf=4, min_samples_split=7;, score=0.508 total time=   0.1s\n",
            "[CV 2/3] END max_depth=4, max_features=auto, min_samples_leaf=4, min_samples_split=7;, score=0.509 total time=   0.1s\n",
            "[CV 3/3] END max_depth=4, max_features=auto, min_samples_leaf=4, min_samples_split=7;, score=0.508 total time=   0.1s\n",
            "[CV 1/3] END max_depth=4, max_features=auto, min_samples_leaf=5, min_samples_split=2;, score=0.508 total time=   0.1s\n",
            "[CV 2/3] END max_depth=4, max_features=auto, min_samples_leaf=5, min_samples_split=2;, score=0.509 total time=   0.1s\n",
            "[CV 3/3] END max_depth=4, max_features=auto, min_samples_leaf=5, min_samples_split=2;, score=0.508 total time=   0.1s\n",
            "[CV 1/3] END max_depth=4, max_features=auto, min_samples_leaf=5, min_samples_split=4;, score=0.508 total time=   0.1s\n",
            "[CV 2/3] END max_depth=4, max_features=auto, min_samples_leaf=5, min_samples_split=4;, score=0.509 total time=   0.1s\n",
            "[CV 3/3] END max_depth=4, max_features=auto, min_samples_leaf=5, min_samples_split=4;, score=0.508 total time=   0.1s\n",
            "[CV 1/3] END max_depth=4, max_features=auto, min_samples_leaf=5, min_samples_split=5;, score=0.508 total time=   0.1s\n",
            "[CV 2/3] END max_depth=4, max_features=auto, min_samples_leaf=5, min_samples_split=5;, score=0.509 total time=   0.1s\n",
            "[CV 3/3] END max_depth=4, max_features=auto, min_samples_leaf=5, min_samples_split=5;, score=0.508 total time=   0.1s\n",
            "[CV 1/3] END max_depth=4, max_features=auto, min_samples_leaf=5, min_samples_split=7;, score=0.508 total time=   0.1s\n",
            "[CV 2/3] END max_depth=4, max_features=auto, min_samples_leaf=5, min_samples_split=7;, score=0.509 total time=   0.1s\n",
            "[CV 3/3] END max_depth=4, max_features=auto, min_samples_leaf=5, min_samples_split=7;, score=0.508 total time=   0.1s\n",
            "[CV 1/3] END max_depth=4, max_features=sqrt, min_samples_leaf=1, min_samples_split=2;, score=0.508 total time=   0.1s\n",
            "[CV 2/3] END max_depth=4, max_features=sqrt, min_samples_leaf=1, min_samples_split=2;, score=0.509 total time=   0.1s\n",
            "[CV 3/3] END max_depth=4, max_features=sqrt, min_samples_leaf=1, min_samples_split=2;, score=0.508 total time=   0.1s\n",
            "[CV 1/3] END max_depth=4, max_features=sqrt, min_samples_leaf=1, min_samples_split=4;, score=0.508 total time=   0.1s\n",
            "[CV 2/3] END max_depth=4, max_features=sqrt, min_samples_leaf=1, min_samples_split=4;, score=0.509 total time=   0.1s\n",
            "[CV 3/3] END max_depth=4, max_features=sqrt, min_samples_leaf=1, min_samples_split=4;, score=0.508 total time=   0.1s\n",
            "[CV 1/3] END max_depth=4, max_features=sqrt, min_samples_leaf=1, min_samples_split=5;, score=0.508 total time=   0.1s\n",
            "[CV 2/3] END max_depth=4, max_features=sqrt, min_samples_leaf=1, min_samples_split=5;, score=0.509 total time=   0.1s\n",
            "[CV 3/3] END max_depth=4, max_features=sqrt, min_samples_leaf=1, min_samples_split=5;, score=0.508 total time=   0.1s\n",
            "[CV 1/3] END max_depth=4, max_features=sqrt, min_samples_leaf=1, min_samples_split=7;, score=0.508 total time=   0.1s\n",
            "[CV 2/3] END max_depth=4, max_features=sqrt, min_samples_leaf=1, min_samples_split=7;, score=0.509 total time=   0.1s\n",
            "[CV 3/3] END max_depth=4, max_features=sqrt, min_samples_leaf=1, min_samples_split=7;, score=0.508 total time=   0.1s\n",
            "[CV 1/3] END max_depth=4, max_features=sqrt, min_samples_leaf=3, min_samples_split=2;, score=0.508 total time=   0.1s\n",
            "[CV 2/3] END max_depth=4, max_features=sqrt, min_samples_leaf=3, min_samples_split=2;, score=0.509 total time=   0.1s\n",
            "[CV 3/3] END max_depth=4, max_features=sqrt, min_samples_leaf=3, min_samples_split=2;, score=0.508 total time=   0.1s\n",
            "[CV 1/3] END max_depth=4, max_features=sqrt, min_samples_leaf=3, min_samples_split=4;, score=0.508 total time=   0.1s\n",
            "[CV 2/3] END max_depth=4, max_features=sqrt, min_samples_leaf=3, min_samples_split=4;, score=0.509 total time=   0.1s\n",
            "[CV 3/3] END max_depth=4, max_features=sqrt, min_samples_leaf=3, min_samples_split=4;, score=0.508 total time=   0.1s\n",
            "[CV 1/3] END max_depth=4, max_features=sqrt, min_samples_leaf=3, min_samples_split=5;, score=0.508 total time=   0.1s\n",
            "[CV 2/3] END max_depth=4, max_features=sqrt, min_samples_leaf=3, min_samples_split=5;, score=0.509 total time=   0.1s\n",
            "[CV 3/3] END max_depth=4, max_features=sqrt, min_samples_leaf=3, min_samples_split=5;, score=0.508 total time=   0.1s\n",
            "[CV 1/3] END max_depth=4, max_features=sqrt, min_samples_leaf=3, min_samples_split=7;, score=0.508 total time=   0.1s\n",
            "[CV 2/3] END max_depth=4, max_features=sqrt, min_samples_leaf=3, min_samples_split=7;, score=0.509 total time=   0.1s\n",
            "[CV 3/3] END max_depth=4, max_features=sqrt, min_samples_leaf=3, min_samples_split=7;, score=0.508 total time=   0.1s\n",
            "[CV 1/3] END max_depth=4, max_features=sqrt, min_samples_leaf=4, min_samples_split=2;, score=0.508 total time=   0.1s\n",
            "[CV 2/3] END max_depth=4, max_features=sqrt, min_samples_leaf=4, min_samples_split=2;, score=0.509 total time=   0.1s\n",
            "[CV 3/3] END max_depth=4, max_features=sqrt, min_samples_leaf=4, min_samples_split=2;, score=0.508 total time=   0.1s\n",
            "[CV 1/3] END max_depth=4, max_features=sqrt, min_samples_leaf=4, min_samples_split=4;, score=0.508 total time=   0.1s\n",
            "[CV 2/3] END max_depth=4, max_features=sqrt, min_samples_leaf=4, min_samples_split=4;, score=0.509 total time=   0.1s\n",
            "[CV 3/3] END max_depth=4, max_features=sqrt, min_samples_leaf=4, min_samples_split=4;, score=0.508 total time=   0.1s\n",
            "[CV 1/3] END max_depth=4, max_features=sqrt, min_samples_leaf=4, min_samples_split=5;, score=0.508 total time=   0.1s\n",
            "[CV 2/3] END max_depth=4, max_features=sqrt, min_samples_leaf=4, min_samples_split=5;, score=0.509 total time=   0.1s\n",
            "[CV 3/3] END max_depth=4, max_features=sqrt, min_samples_leaf=4, min_samples_split=5;, score=0.508 total time=   0.1s\n",
            "[CV 1/3] END max_depth=4, max_features=sqrt, min_samples_leaf=4, min_samples_split=7;, score=0.508 total time=   0.1s\n",
            "[CV 2/3] END max_depth=4, max_features=sqrt, min_samples_leaf=4, min_samples_split=7;, score=0.509 total time=   0.1s\n",
            "[CV 3/3] END max_depth=4, max_features=sqrt, min_samples_leaf=4, min_samples_split=7;, score=0.508 total time=   0.1s\n",
            "[CV 1/3] END max_depth=4, max_features=sqrt, min_samples_leaf=5, min_samples_split=2;, score=0.508 total time=   0.1s\n",
            "[CV 2/3] END max_depth=4, max_features=sqrt, min_samples_leaf=5, min_samples_split=2;, score=0.509 total time=   0.1s\n",
            "[CV 3/3] END max_depth=4, max_features=sqrt, min_samples_leaf=5, min_samples_split=2;, score=0.508 total time=   0.1s\n",
            "[CV 1/3] END max_depth=4, max_features=sqrt, min_samples_leaf=5, min_samples_split=4;, score=0.508 total time=   0.1s\n",
            "[CV 2/3] END max_depth=4, max_features=sqrt, min_samples_leaf=5, min_samples_split=4;, score=0.509 total time=   0.1s\n",
            "[CV 3/3] END max_depth=4, max_features=sqrt, min_samples_leaf=5, min_samples_split=4;, score=0.508 total time=   0.1s\n",
            "[CV 1/3] END max_depth=4, max_features=sqrt, min_samples_leaf=5, min_samples_split=5;, score=0.508 total time=   0.1s\n",
            "[CV 2/3] END max_depth=4, max_features=sqrt, min_samples_leaf=5, min_samples_split=5;, score=0.509 total time=   0.1s\n",
            "[CV 3/3] END max_depth=4, max_features=sqrt, min_samples_leaf=5, min_samples_split=5;, score=0.508 total time=   0.1s\n",
            "[CV 1/3] END max_depth=4, max_features=sqrt, min_samples_leaf=5, min_samples_split=7;, score=0.508 total time=   0.1s\n",
            "[CV 2/3] END max_depth=4, max_features=sqrt, min_samples_leaf=5, min_samples_split=7;, score=0.509 total time=   0.1s\n",
            "[CV 3/3] END max_depth=4, max_features=sqrt, min_samples_leaf=5, min_samples_split=7;, score=0.508 total time=   0.1s\n",
            "[CV 1/3] END max_depth=4, max_features=log2, min_samples_leaf=1, min_samples_split=2;, score=0.509 total time=   0.1s\n",
            "[CV 2/3] END max_depth=4, max_features=log2, min_samples_leaf=1, min_samples_split=2;, score=0.505 total time=   0.1s\n",
            "[CV 3/3] END max_depth=4, max_features=log2, min_samples_leaf=1, min_samples_split=2;, score=0.529 total time=   0.1s\n",
            "[CV 1/3] END max_depth=4, max_features=log2, min_samples_leaf=1, min_samples_split=4;, score=0.509 total time=   0.1s\n",
            "[CV 2/3] END max_depth=4, max_features=log2, min_samples_leaf=1, min_samples_split=4;, score=0.505 total time=   0.1s\n",
            "[CV 3/3] END max_depth=4, max_features=log2, min_samples_leaf=1, min_samples_split=4;, score=0.529 total time=   0.1s\n",
            "[CV 1/3] END max_depth=4, max_features=log2, min_samples_leaf=1, min_samples_split=5;, score=0.509 total time=   0.1s\n",
            "[CV 2/3] END max_depth=4, max_features=log2, min_samples_leaf=1, min_samples_split=5;, score=0.505 total time=   0.1s\n",
            "[CV 3/3] END max_depth=4, max_features=log2, min_samples_leaf=1, min_samples_split=5;, score=0.529 total time=   0.1s\n",
            "[CV 1/3] END max_depth=4, max_features=log2, min_samples_leaf=1, min_samples_split=7;, score=0.509 total time=   0.1s\n",
            "[CV 2/3] END max_depth=4, max_features=log2, min_samples_leaf=1, min_samples_split=7;, score=0.505 total time=   0.1s\n",
            "[CV 3/3] END max_depth=4, max_features=log2, min_samples_leaf=1, min_samples_split=7;, score=0.529 total time=   0.1s\n",
            "[CV 1/3] END max_depth=4, max_features=log2, min_samples_leaf=3, min_samples_split=2;, score=0.509 total time=   0.1s\n",
            "[CV 2/3] END max_depth=4, max_features=log2, min_samples_leaf=3, min_samples_split=2;, score=0.505 total time=   0.1s\n",
            "[CV 3/3] END max_depth=4, max_features=log2, min_samples_leaf=3, min_samples_split=2;, score=0.529 total time=   0.1s\n",
            "[CV 1/3] END max_depth=4, max_features=log2, min_samples_leaf=3, min_samples_split=4;, score=0.509 total time=   0.1s\n",
            "[CV 2/3] END max_depth=4, max_features=log2, min_samples_leaf=3, min_samples_split=4;, score=0.505 total time=   0.1s\n",
            "[CV 3/3] END max_depth=4, max_features=log2, min_samples_leaf=3, min_samples_split=4;, score=0.529 total time=   0.1s\n",
            "[CV 1/3] END max_depth=4, max_features=log2, min_samples_leaf=3, min_samples_split=5;, score=0.509 total time=   0.1s\n",
            "[CV 2/3] END max_depth=4, max_features=log2, min_samples_leaf=3, min_samples_split=5;, score=0.505 total time=   0.1s\n",
            "[CV 3/3] END max_depth=4, max_features=log2, min_samples_leaf=3, min_samples_split=5;, score=0.529 total time=   0.1s\n",
            "[CV 1/3] END max_depth=4, max_features=log2, min_samples_leaf=3, min_samples_split=7;, score=0.509 total time=   0.1s\n",
            "[CV 2/3] END max_depth=4, max_features=log2, min_samples_leaf=3, min_samples_split=7;, score=0.505 total time=   0.1s\n",
            "[CV 3/3] END max_depth=4, max_features=log2, min_samples_leaf=3, min_samples_split=7;, score=0.529 total time=   0.1s\n",
            "[CV 1/3] END max_depth=4, max_features=log2, min_samples_leaf=4, min_samples_split=2;, score=0.509 total time=   0.1s\n",
            "[CV 2/3] END max_depth=4, max_features=log2, min_samples_leaf=4, min_samples_split=2;, score=0.505 total time=   0.1s\n",
            "[CV 3/3] END max_depth=4, max_features=log2, min_samples_leaf=4, min_samples_split=2;, score=0.529 total time=   0.1s\n",
            "[CV 1/3] END max_depth=4, max_features=log2, min_samples_leaf=4, min_samples_split=4;, score=0.509 total time=   0.1s\n",
            "[CV 2/3] END max_depth=4, max_features=log2, min_samples_leaf=4, min_samples_split=4;, score=0.505 total time=   0.1s\n",
            "[CV 3/3] END max_depth=4, max_features=log2, min_samples_leaf=4, min_samples_split=4;, score=0.529 total time=   0.1s\n",
            "[CV 1/3] END max_depth=4, max_features=log2, min_samples_leaf=4, min_samples_split=5;, score=0.509 total time=   0.1s\n",
            "[CV 2/3] END max_depth=4, max_features=log2, min_samples_leaf=4, min_samples_split=5;, score=0.505 total time=   0.1s\n",
            "[CV 3/3] END max_depth=4, max_features=log2, min_samples_leaf=4, min_samples_split=5;, score=0.529 total time=   0.1s\n",
            "[CV 1/3] END max_depth=4, max_features=log2, min_samples_leaf=4, min_samples_split=7;, score=0.509 total time=   0.1s\n",
            "[CV 2/3] END max_depth=4, max_features=log2, min_samples_leaf=4, min_samples_split=7;, score=0.505 total time=   0.1s\n",
            "[CV 3/3] END max_depth=4, max_features=log2, min_samples_leaf=4, min_samples_split=7;, score=0.529 total time=   0.1s\n",
            "[CV 1/3] END max_depth=4, max_features=log2, min_samples_leaf=5, min_samples_split=2;, score=0.509 total time=   0.1s\n",
            "[CV 2/3] END max_depth=4, max_features=log2, min_samples_leaf=5, min_samples_split=2;, score=0.505 total time=   0.1s\n",
            "[CV 3/3] END max_depth=4, max_features=log2, min_samples_leaf=5, min_samples_split=2;, score=0.529 total time=   0.1s\n",
            "[CV 1/3] END max_depth=4, max_features=log2, min_samples_leaf=5, min_samples_split=4;, score=0.509 total time=   0.1s\n",
            "[CV 2/3] END max_depth=4, max_features=log2, min_samples_leaf=5, min_samples_split=4;, score=0.505 total time=   0.1s\n",
            "[CV 3/3] END max_depth=4, max_features=log2, min_samples_leaf=5, min_samples_split=4;, score=0.529 total time=   0.1s\n",
            "[CV 1/3] END max_depth=4, max_features=log2, min_samples_leaf=5, min_samples_split=5;, score=0.509 total time=   0.1s\n",
            "[CV 2/3] END max_depth=4, max_features=log2, min_samples_leaf=5, min_samples_split=5;, score=0.505 total time=   0.1s\n",
            "[CV 3/3] END max_depth=4, max_features=log2, min_samples_leaf=5, min_samples_split=5;, score=0.529 total time=   0.1s\n",
            "[CV 1/3] END max_depth=4, max_features=log2, min_samples_leaf=5, min_samples_split=7;, score=0.509 total time=   0.1s\n",
            "[CV 2/3] END max_depth=4, max_features=log2, min_samples_leaf=5, min_samples_split=7;, score=0.505 total time=   0.1s\n",
            "[CV 3/3] END max_depth=4, max_features=log2, min_samples_leaf=5, min_samples_split=7;, score=0.529 total time=   0.1s\n",
            "[CV 1/3] END max_depth=5, max_features=auto, min_samples_leaf=1, min_samples_split=2;, score=0.526 total time=   0.1s\n",
            "[CV 2/3] END max_depth=5, max_features=auto, min_samples_leaf=1, min_samples_split=2;, score=0.569 total time=   0.1s\n",
            "[CV 3/3] END max_depth=5, max_features=auto, min_samples_leaf=1, min_samples_split=2;, score=0.525 total time=   0.1s\n",
            "[CV 1/3] END max_depth=5, max_features=auto, min_samples_leaf=1, min_samples_split=4;, score=0.526 total time=   0.1s\n",
            "[CV 2/3] END max_depth=5, max_features=auto, min_samples_leaf=1, min_samples_split=4;, score=0.569 total time=   0.1s\n",
            "[CV 3/3] END max_depth=5, max_features=auto, min_samples_leaf=1, min_samples_split=4;, score=0.525 total time=   0.1s\n",
            "[CV 1/3] END max_depth=5, max_features=auto, min_samples_leaf=1, min_samples_split=5;, score=0.513 total time=   0.1s\n",
            "[CV 2/3] END max_depth=5, max_features=auto, min_samples_leaf=1, min_samples_split=5;, score=0.569 total time=   0.1s\n",
            "[CV 3/3] END max_depth=5, max_features=auto, min_samples_leaf=1, min_samples_split=5;, score=0.525 total time=   0.1s\n",
            "[CV 1/3] END max_depth=5, max_features=auto, min_samples_leaf=1, min_samples_split=7;, score=0.513 total time=   0.1s\n",
            "[CV 2/3] END max_depth=5, max_features=auto, min_samples_leaf=1, min_samples_split=7;, score=0.569 total time=   0.1s\n",
            "[CV 3/3] END max_depth=5, max_features=auto, min_samples_leaf=1, min_samples_split=7;, score=0.515 total time=   0.1s\n",
            "[CV 1/3] END max_depth=5, max_features=auto, min_samples_leaf=3, min_samples_split=2;, score=0.516 total time=   0.1s\n",
            "[CV 2/3] END max_depth=5, max_features=auto, min_samples_leaf=3, min_samples_split=2;, score=0.568 total time=   0.1s\n",
            "[CV 3/3] END max_depth=5, max_features=auto, min_samples_leaf=3, min_samples_split=2;, score=0.517 total time=   0.1s\n",
            "[CV 1/3] END max_depth=5, max_features=auto, min_samples_leaf=3, min_samples_split=4;, score=0.516 total time=   0.1s\n",
            "[CV 2/3] END max_depth=5, max_features=auto, min_samples_leaf=3, min_samples_split=4;, score=0.568 total time=   0.1s\n",
            "[CV 3/3] END max_depth=5, max_features=auto, min_samples_leaf=3, min_samples_split=4;, score=0.517 total time=   0.1s\n",
            "[CV 1/3] END max_depth=5, max_features=auto, min_samples_leaf=3, min_samples_split=5;, score=0.516 total time=   0.1s\n",
            "[CV 2/3] END max_depth=5, max_features=auto, min_samples_leaf=3, min_samples_split=5;, score=0.568 total time=   0.1s\n",
            "[CV 3/3] END max_depth=5, max_features=auto, min_samples_leaf=3, min_samples_split=5;, score=0.517 total time=   0.1s\n",
            "[CV 1/3] END max_depth=5, max_features=auto, min_samples_leaf=3, min_samples_split=7;, score=0.513 total time=   0.1s\n",
            "[CV 2/3] END max_depth=5, max_features=auto, min_samples_leaf=3, min_samples_split=7;, score=0.568 total time=   0.1s\n",
            "[CV 3/3] END max_depth=5, max_features=auto, min_samples_leaf=3, min_samples_split=7;, score=0.515 total time=   0.1s\n",
            "[CV 1/3] END max_depth=5, max_features=auto, min_samples_leaf=4, min_samples_split=2;, score=0.513 total time=   0.1s\n",
            "[CV 2/3] END max_depth=5, max_features=auto, min_samples_leaf=4, min_samples_split=2;, score=0.541 total time=   0.1s\n",
            "[CV 3/3] END max_depth=5, max_features=auto, min_samples_leaf=4, min_samples_split=2;, score=0.530 total time=   0.1s\n",
            "[CV 1/3] END max_depth=5, max_features=auto, min_samples_leaf=4, min_samples_split=4;, score=0.513 total time=   0.1s\n",
            "[CV 2/3] END max_depth=5, max_features=auto, min_samples_leaf=4, min_samples_split=4;, score=0.541 total time=   0.1s\n",
            "[CV 3/3] END max_depth=5, max_features=auto, min_samples_leaf=4, min_samples_split=4;, score=0.530 total time=   0.1s\n",
            "[CV 1/3] END max_depth=5, max_features=auto, min_samples_leaf=4, min_samples_split=5;, score=0.513 total time=   0.1s\n",
            "[CV 2/3] END max_depth=5, max_features=auto, min_samples_leaf=4, min_samples_split=5;, score=0.541 total time=   0.1s\n",
            "[CV 3/3] END max_depth=5, max_features=auto, min_samples_leaf=4, min_samples_split=5;, score=0.530 total time=   0.1s\n",
            "[CV 1/3] END max_depth=5, max_features=auto, min_samples_leaf=4, min_samples_split=7;, score=0.513 total time=   0.1s\n",
            "[CV 2/3] END max_depth=5, max_features=auto, min_samples_leaf=4, min_samples_split=7;, score=0.541 total time=   0.1s\n",
            "[CV 3/3] END max_depth=5, max_features=auto, min_samples_leaf=4, min_samples_split=7;, score=0.530 total time=   0.1s\n",
            "[CV 1/3] END max_depth=5, max_features=auto, min_samples_leaf=5, min_samples_split=2;, score=0.513 total time=   0.1s\n",
            "[CV 2/3] END max_depth=5, max_features=auto, min_samples_leaf=5, min_samples_split=2;, score=0.541 total time=   0.1s\n",
            "[CV 3/3] END max_depth=5, max_features=auto, min_samples_leaf=5, min_samples_split=2;, score=0.530 total time=   0.1s\n",
            "[CV 1/3] END max_depth=5, max_features=auto, min_samples_leaf=5, min_samples_split=4;, score=0.513 total time=   0.1s\n",
            "[CV 2/3] END max_depth=5, max_features=auto, min_samples_leaf=5, min_samples_split=4;, score=0.541 total time=   0.1s\n",
            "[CV 3/3] END max_depth=5, max_features=auto, min_samples_leaf=5, min_samples_split=4;, score=0.530 total time=   0.1s\n",
            "[CV 1/3] END max_depth=5, max_features=auto, min_samples_leaf=5, min_samples_split=5;, score=0.513 total time=   0.1s\n",
            "[CV 2/3] END max_depth=5, max_features=auto, min_samples_leaf=5, min_samples_split=5;, score=0.541 total time=   0.1s\n",
            "[CV 3/3] END max_depth=5, max_features=auto, min_samples_leaf=5, min_samples_split=5;, score=0.530 total time=   0.1s\n",
            "[CV 1/3] END max_depth=5, max_features=auto, min_samples_leaf=5, min_samples_split=7;, score=0.513 total time=   0.1s\n",
            "[CV 2/3] END max_depth=5, max_features=auto, min_samples_leaf=5, min_samples_split=7;, score=0.541 total time=   0.1s\n",
            "[CV 3/3] END max_depth=5, max_features=auto, min_samples_leaf=5, min_samples_split=7;, score=0.530 total time=   0.1s\n",
            "[CV 1/3] END max_depth=5, max_features=sqrt, min_samples_leaf=1, min_samples_split=2;, score=0.526 total time=   0.1s\n",
            "[CV 2/3] END max_depth=5, max_features=sqrt, min_samples_leaf=1, min_samples_split=2;, score=0.569 total time=   0.1s\n",
            "[CV 3/3] END max_depth=5, max_features=sqrt, min_samples_leaf=1, min_samples_split=2;, score=0.525 total time=   0.1s\n",
            "[CV 1/3] END max_depth=5, max_features=sqrt, min_samples_leaf=1, min_samples_split=4;, score=0.526 total time=   0.1s\n",
            "[CV 2/3] END max_depth=5, max_features=sqrt, min_samples_leaf=1, min_samples_split=4;, score=0.569 total time=   0.1s\n",
            "[CV 3/3] END max_depth=5, max_features=sqrt, min_samples_leaf=1, min_samples_split=4;, score=0.525 total time=   0.1s\n",
            "[CV 1/3] END max_depth=5, max_features=sqrt, min_samples_leaf=1, min_samples_split=5;, score=0.513 total time=   0.1s\n",
            "[CV 2/3] END max_depth=5, max_features=sqrt, min_samples_leaf=1, min_samples_split=5;, score=0.569 total time=   0.1s\n",
            "[CV 3/3] END max_depth=5, max_features=sqrt, min_samples_leaf=1, min_samples_split=5;, score=0.525 total time=   0.1s\n",
            "[CV 1/3] END max_depth=5, max_features=sqrt, min_samples_leaf=1, min_samples_split=7;, score=0.513 total time=   0.1s\n",
            "[CV 2/3] END max_depth=5, max_features=sqrt, min_samples_leaf=1, min_samples_split=7;, score=0.569 total time=   0.1s\n",
            "[CV 3/3] END max_depth=5, max_features=sqrt, min_samples_leaf=1, min_samples_split=7;, score=0.515 total time=   0.1s\n",
            "[CV 1/3] END max_depth=5, max_features=sqrt, min_samples_leaf=3, min_samples_split=2;, score=0.516 total time=   0.1s\n",
            "[CV 2/3] END max_depth=5, max_features=sqrt, min_samples_leaf=3, min_samples_split=2;, score=0.568 total time=   0.1s\n",
            "[CV 3/3] END max_depth=5, max_features=sqrt, min_samples_leaf=3, min_samples_split=2;, score=0.517 total time=   0.1s\n",
            "[CV 1/3] END max_depth=5, max_features=sqrt, min_samples_leaf=3, min_samples_split=4;, score=0.516 total time=   0.1s\n",
            "[CV 2/3] END max_depth=5, max_features=sqrt, min_samples_leaf=3, min_samples_split=4;, score=0.568 total time=   0.1s\n",
            "[CV 3/3] END max_depth=5, max_features=sqrt, min_samples_leaf=3, min_samples_split=4;, score=0.517 total time=   0.1s\n",
            "[CV 1/3] END max_depth=5, max_features=sqrt, min_samples_leaf=3, min_samples_split=5;, score=0.516 total time=   0.1s\n",
            "[CV 2/3] END max_depth=5, max_features=sqrt, min_samples_leaf=3, min_samples_split=5;, score=0.568 total time=   0.1s\n",
            "[CV 3/3] END max_depth=5, max_features=sqrt, min_samples_leaf=3, min_samples_split=5;, score=0.517 total time=   0.1s\n",
            "[CV 1/3] END max_depth=5, max_features=sqrt, min_samples_leaf=3, min_samples_split=7;, score=0.513 total time=   0.1s\n",
            "[CV 2/3] END max_depth=5, max_features=sqrt, min_samples_leaf=3, min_samples_split=7;, score=0.568 total time=   0.1s\n",
            "[CV 3/3] END max_depth=5, max_features=sqrt, min_samples_leaf=3, min_samples_split=7;, score=0.515 total time=   0.1s\n",
            "[CV 1/3] END max_depth=5, max_features=sqrt, min_samples_leaf=4, min_samples_split=2;, score=0.513 total time=   0.1s\n",
            "[CV 2/3] END max_depth=5, max_features=sqrt, min_samples_leaf=4, min_samples_split=2;, score=0.541 total time=   0.1s\n",
            "[CV 3/3] END max_depth=5, max_features=sqrt, min_samples_leaf=4, min_samples_split=2;, score=0.530 total time=   0.1s\n",
            "[CV 1/3] END max_depth=5, max_features=sqrt, min_samples_leaf=4, min_samples_split=4;, score=0.513 total time=   0.1s\n",
            "[CV 2/3] END max_depth=5, max_features=sqrt, min_samples_leaf=4, min_samples_split=4;, score=0.541 total time=   0.1s\n",
            "[CV 3/3] END max_depth=5, max_features=sqrt, min_samples_leaf=4, min_samples_split=4;, score=0.530 total time=   0.1s\n",
            "[CV 1/3] END max_depth=5, max_features=sqrt, min_samples_leaf=4, min_samples_split=5;, score=0.513 total time=   0.1s\n",
            "[CV 2/3] END max_depth=5, max_features=sqrt, min_samples_leaf=4, min_samples_split=5;, score=0.541 total time=   0.1s\n",
            "[CV 3/3] END max_depth=5, max_features=sqrt, min_samples_leaf=4, min_samples_split=5;, score=0.530 total time=   0.1s\n",
            "[CV 1/3] END max_depth=5, max_features=sqrt, min_samples_leaf=4, min_samples_split=7;, score=0.513 total time=   0.1s\n",
            "[CV 2/3] END max_depth=5, max_features=sqrt, min_samples_leaf=4, min_samples_split=7;, score=0.541 total time=   0.1s\n",
            "[CV 3/3] END max_depth=5, max_features=sqrt, min_samples_leaf=4, min_samples_split=7;, score=0.530 total time=   0.1s\n",
            "[CV 1/3] END max_depth=5, max_features=sqrt, min_samples_leaf=5, min_samples_split=2;, score=0.513 total time=   0.1s\n",
            "[CV 2/3] END max_depth=5, max_features=sqrt, min_samples_leaf=5, min_samples_split=2;, score=0.541 total time=   0.1s\n",
            "[CV 3/3] END max_depth=5, max_features=sqrt, min_samples_leaf=5, min_samples_split=2;, score=0.530 total time=   0.1s\n",
            "[CV 1/3] END max_depth=5, max_features=sqrt, min_samples_leaf=5, min_samples_split=4;, score=0.513 total time=   0.1s\n",
            "[CV 2/3] END max_depth=5, max_features=sqrt, min_samples_leaf=5, min_samples_split=4;, score=0.541 total time=   0.1s\n",
            "[CV 3/3] END max_depth=5, max_features=sqrt, min_samples_leaf=5, min_samples_split=4;, score=0.530 total time=   0.1s\n",
            "[CV 1/3] END max_depth=5, max_features=sqrt, min_samples_leaf=5, min_samples_split=5;, score=0.513 total time=   0.1s\n",
            "[CV 2/3] END max_depth=5, max_features=sqrt, min_samples_leaf=5, min_samples_split=5;, score=0.541 total time=   0.1s\n",
            "[CV 3/3] END max_depth=5, max_features=sqrt, min_samples_leaf=5, min_samples_split=5;, score=0.530 total time=   0.1s\n",
            "[CV 1/3] END max_depth=5, max_features=sqrt, min_samples_leaf=5, min_samples_split=7;, score=0.513 total time=   0.1s\n",
            "[CV 2/3] END max_depth=5, max_features=sqrt, min_samples_leaf=5, min_samples_split=7;, score=0.541 total time=   0.1s\n",
            "[CV 3/3] END max_depth=5, max_features=sqrt, min_samples_leaf=5, min_samples_split=7;, score=0.530 total time=   0.1s\n",
            "[CV 1/3] END max_depth=5, max_features=log2, min_samples_leaf=1, min_samples_split=2;, score=0.523 total time=   0.1s\n",
            "[CV 2/3] END max_depth=5, max_features=log2, min_samples_leaf=1, min_samples_split=2;, score=0.515 total time=   0.1s\n",
            "[CV 3/3] END max_depth=5, max_features=log2, min_samples_leaf=1, min_samples_split=2;, score=0.521 total time=   0.1s\n",
            "[CV 1/3] END max_depth=5, max_features=log2, min_samples_leaf=1, min_samples_split=4;, score=0.518 total time=   0.1s\n",
            "[CV 2/3] END max_depth=5, max_features=log2, min_samples_leaf=1, min_samples_split=4;, score=0.513 total time=   0.1s\n",
            "[CV 3/3] END max_depth=5, max_features=log2, min_samples_leaf=1, min_samples_split=4;, score=0.521 total time=   0.1s\n",
            "[CV 1/3] END max_depth=5, max_features=log2, min_samples_leaf=1, min_samples_split=5;, score=0.514 total time=   0.1s\n",
            "[CV 2/3] END max_depth=5, max_features=log2, min_samples_leaf=1, min_samples_split=5;, score=0.513 total time=   0.1s\n",
            "[CV 3/3] END max_depth=5, max_features=log2, min_samples_leaf=1, min_samples_split=5;, score=0.521 total time=   0.1s\n",
            "[CV 1/3] END max_depth=5, max_features=log2, min_samples_leaf=1, min_samples_split=7;, score=0.506 total time=   0.1s\n",
            "[CV 2/3] END max_depth=5, max_features=log2, min_samples_leaf=1, min_samples_split=7;, score=0.525 total time=   0.1s\n",
            "[CV 3/3] END max_depth=5, max_features=log2, min_samples_leaf=1, min_samples_split=7;, score=0.531 total time=   0.1s\n",
            "[CV 1/3] END max_depth=5, max_features=log2, min_samples_leaf=3, min_samples_split=2;, score=0.506 total time=   0.1s\n",
            "[CV 2/3] END max_depth=5, max_features=log2, min_samples_leaf=3, min_samples_split=2;, score=0.513 total time=   0.1s\n",
            "[CV 3/3] END max_depth=5, max_features=log2, min_samples_leaf=3, min_samples_split=2;, score=0.513 total time=   0.1s\n",
            "[CV 1/3] END max_depth=5, max_features=log2, min_samples_leaf=3, min_samples_split=4;, score=0.506 total time=   0.1s\n",
            "[CV 2/3] END max_depth=5, max_features=log2, min_samples_leaf=3, min_samples_split=4;, score=0.513 total time=   0.1s\n",
            "[CV 3/3] END max_depth=5, max_features=log2, min_samples_leaf=3, min_samples_split=4;, score=0.513 total time=   0.1s\n",
            "[CV 1/3] END max_depth=5, max_features=log2, min_samples_leaf=3, min_samples_split=5;, score=0.506 total time=   0.1s\n",
            "[CV 2/3] END max_depth=5, max_features=log2, min_samples_leaf=3, min_samples_split=5;, score=0.513 total time=   0.1s\n",
            "[CV 3/3] END max_depth=5, max_features=log2, min_samples_leaf=3, min_samples_split=5;, score=0.513 total time=   0.1s\n",
            "[CV 1/3] END max_depth=5, max_features=log2, min_samples_leaf=3, min_samples_split=7;, score=0.506 total time=   0.1s\n",
            "[CV 2/3] END max_depth=5, max_features=log2, min_samples_leaf=3, min_samples_split=7;, score=0.525 total time=   0.1s\n",
            "[CV 3/3] END max_depth=5, max_features=log2, min_samples_leaf=3, min_samples_split=7;, score=0.511 total time=   0.1s\n",
            "[CV 1/3] END max_depth=5, max_features=log2, min_samples_leaf=4, min_samples_split=2;, score=0.559 total time=   0.1s\n",
            "[CV 2/3] END max_depth=5, max_features=log2, min_samples_leaf=4, min_samples_split=2;, score=0.519 total time=   0.1s\n",
            "[CV 3/3] END max_depth=5, max_features=log2, min_samples_leaf=4, min_samples_split=2;, score=0.511 total time=   0.1s\n",
            "[CV 1/3] END max_depth=5, max_features=log2, min_samples_leaf=4, min_samples_split=4;, score=0.559 total time=   0.1s\n",
            "[CV 2/3] END max_depth=5, max_features=log2, min_samples_leaf=4, min_samples_split=4;, score=0.519 total time=   0.1s\n",
            "[CV 3/3] END max_depth=5, max_features=log2, min_samples_leaf=4, min_samples_split=4;, score=0.511 total time=   0.1s\n",
            "[CV 1/3] END max_depth=5, max_features=log2, min_samples_leaf=4, min_samples_split=5;, score=0.559 total time=   0.1s\n",
            "[CV 2/3] END max_depth=5, max_features=log2, min_samples_leaf=4, min_samples_split=5;, score=0.519 total time=   0.1s\n",
            "[CV 3/3] END max_depth=5, max_features=log2, min_samples_leaf=4, min_samples_split=5;, score=0.511 total time=   0.1s\n",
            "[CV 1/3] END max_depth=5, max_features=log2, min_samples_leaf=4, min_samples_split=7;, score=0.559 total time=   0.1s\n",
            "[CV 2/3] END max_depth=5, max_features=log2, min_samples_leaf=4, min_samples_split=7;, score=0.519 total time=   0.1s\n",
            "[CV 3/3] END max_depth=5, max_features=log2, min_samples_leaf=4, min_samples_split=7;, score=0.511 total time=   0.1s\n",
            "[CV 1/3] END max_depth=5, max_features=log2, min_samples_leaf=5, min_samples_split=2;, score=0.559 total time=   0.1s\n",
            "[CV 2/3] END max_depth=5, max_features=log2, min_samples_leaf=5, min_samples_split=2;, score=0.520 total time=   0.1s\n",
            "[CV 3/3] END max_depth=5, max_features=log2, min_samples_leaf=5, min_samples_split=2;, score=0.511 total time=   0.1s\n",
            "[CV 1/3] END max_depth=5, max_features=log2, min_samples_leaf=5, min_samples_split=4;, score=0.559 total time=   0.1s\n",
            "[CV 2/3] END max_depth=5, max_features=log2, min_samples_leaf=5, min_samples_split=4;, score=0.520 total time=   0.1s\n",
            "[CV 3/3] END max_depth=5, max_features=log2, min_samples_leaf=5, min_samples_split=4;, score=0.511 total time=   0.1s\n",
            "[CV 1/3] END max_depth=5, max_features=log2, min_samples_leaf=5, min_samples_split=5;, score=0.559 total time=   0.1s\n",
            "[CV 2/3] END max_depth=5, max_features=log2, min_samples_leaf=5, min_samples_split=5;, score=0.520 total time=   0.1s\n",
            "[CV 3/3] END max_depth=5, max_features=log2, min_samples_leaf=5, min_samples_split=5;, score=0.511 total time=   0.1s\n",
            "[CV 1/3] END max_depth=5, max_features=log2, min_samples_leaf=5, min_samples_split=7;, score=0.559 total time=   0.1s\n",
            "[CV 2/3] END max_depth=5, max_features=log2, min_samples_leaf=5, min_samples_split=7;, score=0.520 total time=   0.1s\n",
            "[CV 3/3] END max_depth=5, max_features=log2, min_samples_leaf=5, min_samples_split=7;, score=0.511 total time=   0.1s\n",
            "Best Hyper-parameter: {'max_depth': 5, 'max_features': 'auto', 'min_samples_leaf': 1, 'min_samples_split': 2}\n"
          ]
        }
      ],
      "source": [
        "from sklearn.model_selection import GridSearchCV\n",
        "from sklearn.tree import DecisionTreeClassifier\n",
        "\n",
        "# Define parameters in param_grid to run the GridSearchCV\n",
        "param_grid = {'max_depth': [3, 4, 5],\n",
        "              'min_samples_split': [2, 4, 5, 7],\n",
        "              'min_samples_leaf' : [1, 3, 4, 5],\n",
        "              'max_features': ['auto', 'sqrt', 'log2']}\n",
        "\n",
        "import time\n",
        "start = time.time()\n",
        "\n",
        "# Initial Decision Tree model\n",
        "estimator = DecisionTreeClassifier(random_state = 1234)\n",
        "\n",
        "grid_search_dt = GridSearchCV(estimator, param_grid, cv = 3, verbose = 3)\n",
        "grid_search_dt.fit(X_train_pad, y_train)\n",
        "\n",
        "# Estimate CV running time for each parameter\n",
        "end = time.time()\n",
        "time_duration = end-start\n",
        "print('Best Hyper-parameter:', grid_search_dt.best_params_)"
      ]
    },
    {
      "cell_type": "markdown",
      "metadata": {
        "id": "ottWS7sQVX29"
      },
      "source": [
        "2.2 Select the best model derived and train the model on the training dataset"
      ]
    },
    {
      "cell_type": "code",
      "execution_count": null,
      "metadata": {
        "id": "UEj9ZEP8Val0"
      },
      "outputs": [],
      "source": [
        "# Best Hyper-parameter: {'max_depth': 5, 'max_features': 'auto', 'min_samples_leaf': 1, 'min_samples_split': 2}\n",
        "best_model_dt = DecisionTreeClassifier(max_depth = 5, max_features = 'auto', \n",
        "                            min_samples_leaf = 1, min_samples_split = 2,\n",
        "                            random_state = 1234)"
      ]
    },
    {
      "cell_type": "code",
      "execution_count": null,
      "metadata": {
        "colab": {
          "base_uri": "https://localhost:8080/"
        },
        "id": "A5sUtzBkVhGW",
        "outputId": "a74c7ceb-dbee-4c46-ea8a-c1b819584f91"
      },
      "outputs": [
        {
          "data": {
            "text/plain": [
              "DecisionTreeClassifier(max_depth=5, max_features='auto', random_state=1234)"
            ]
          },
          "execution_count": 21,
          "metadata": {},
          "output_type": "execute_result"
        }
      ],
      "source": [
        "best_model_dt.fit(X_train_pad, y_train)"
      ]
    },
    {
      "cell_type": "markdown",
      "metadata": {
        "id": "hHJbJmIbVrQg"
      },
      "source": [
        "3.3 Predict the train data classes and Calculate the accuracy of the predictions"
      ]
    },
    {
      "cell_type": "code",
      "execution_count": null,
      "metadata": {
        "colab": {
          "base_uri": "https://localhost:8080/"
        },
        "id": "ao4LdQR3VsQu",
        "outputId": "c9afa3ae-bffd-4e09-9b48-e21a61eaf207"
      },
      "outputs": [
        {
          "name": "stdout",
          "output_type": "stream",
          "text": [
            "Accuracy on Validation set 0.58021 (58.021%)\n"
          ]
        }
      ],
      "source": [
        "from sklearn.metrics import accuracy_score, precision_score, recall_score, roc_auc_score, f1_score \n",
        "\n",
        "# Find predicted value from validation data\n",
        "predicted_valid_label_dt = best_model_dt.predict(X_dev_pad)\n",
        "\n",
        "# Evaluate on validation data\n",
        "dt_val_acc = accuracy_score(y_dev, predicted_valid_label_dt)\n",
        "print('Accuracy on Validation set {:.5f} ({:.3f}%)'.format(dt_val_acc, dt_val_acc*100))"
      ]
    },
    {
      "cell_type": "code",
      "execution_count": null,
      "metadata": {
        "colab": {
          "base_uri": "https://localhost:8080/"
        },
        "id": "Tslkpy4KV6-A",
        "outputId": "b4b11568-e38b-49f1-d2a4-6e0405be4182"
      },
      "outputs": [
        {
          "name": "stdout",
          "output_type": "stream",
          "text": [
            "Accuracy on test set 0.57563 (57.563%)\n"
          ]
        }
      ],
      "source": [
        "# Find predicted value from test data\n",
        "predicted_test_label_dt = best_model_dt.predict(X_test_pad)\n",
        "\n",
        "# Evaluate on test data\n",
        "dt_test_acc = accuracy_score(y_test, predicted_test_label_dt)\n",
        "print('Accuracy on test set {:.5f} ({:.3f}%)'.format(dt_test_acc, dt_test_acc*100))"
      ]
    },
    {
      "cell_type": "markdown",
      "metadata": {
        "id": "uwJCkQkNWYmI"
      },
      "source": [
        "**Method 3 : Support Vector Machine**"
      ]
    },
    {
      "cell_type": "markdown",
      "metadata": {
        "id": "K7RoWmgzWlJg"
      },
      "source": [
        "3.1 Perform K-fold cross-validation and hyper-parameter tuning on training data"
      ]
    },
    {
      "cell_type": "code",
      "execution_count": null,
      "metadata": {
        "colab": {
          "background_save": true,
          "base_uri": "https://localhost:8080/"
        },
        "id": "fvkq15efWp6e",
        "outputId": "82988aa9-631e-465e-a84a-ca43785b4477"
      },
      "outputs": [
        {
          "metadata": {
            "tags": null
          },
          "name": "stdout",
          "output_type": "stream",
          "text": [
            "Fitting 2 folds for each of 2 candidates, totalling 4 fits\n",
            "[CV] END ................................................C=1; total time=20.6min\n"
          ]
        }
      ],
      "source": [
        "from sklearn.model_selection import GridSearchCV\n",
        "from sklearn.svm import SVC\n",
        "\n",
        "# Define C (Regularization parameter) in param_grid to run the GridSearchCV\n",
        "param_grid = {'C': [1, 10]} #parameter tuning\n",
        "\n",
        "# Initial SVM model\n",
        "svc = SVC(kernel = 'rbf', probability = True, random_state = 1234)\n",
        "\n",
        "# Run GridSearchCV with param_grid\n",
        "grid_search_svc = GridSearchCV(estimator = svc, param_grid = param_grid, cv = 2, verbose = 2)\n",
        "grid_search_svc.fit(X_train_pad, y_train)"
      ]
    },
    {
      "cell_type": "markdown",
      "metadata": {
        "id": "oGB1ZrmIXH5V"
      },
      "source": [
        "3.2 Get the best Model"
      ]
    },
    {
      "cell_type": "code",
      "execution_count": null,
      "metadata": {
        "id": "20tEHfIfWkYv"
      },
      "outputs": [],
      "source": [
        "# Get the best model with best parameter cross validation\n",
        "best_model_svc = grid_search_svc.best_estimator_\n",
        "best_model_svc.fit(X_train_pad, y_train)"
      ]
    },
    {
      "cell_type": "code",
      "execution_count": null,
      "metadata": {
        "id": "XyDVCrL0XReK"
      },
      "outputs": [],
      "source": [
        "from sklearn.svm import SVC\n",
        "svc = SVC(C = 10, kernel = 'rbf', probability = True, random_state = 1234).fit(X_train_pad, y_train)"
      ]
    },
    {
      "cell_type": "markdown",
      "metadata": {
        "id": "fj97IXgIXWAh"
      },
      "source": [
        "3.3 Evaluate"
      ]
    },
    {
      "cell_type": "code",
      "execution_count": null,
      "metadata": {
        "id": "q9RUCwirXXee"
      },
      "outputs": [],
      "source": [
        "from sklearn.metrics import accuracy_score, precision_score, recall_score, roc_auc_score, f1_score \n",
        "\n",
        "# Find predicted value from validation data\n",
        "predicted_valid_label_svc = svc.predict(X_dev_pad)\n",
        "# Evaluate on validation data\n",
        "svc_val_acc = accuracy_score(y_dev, predicted_valid_label_svc)\n",
        "print('Accuracy on Validation set {:.5f} ({:.3f}%)'.format(svc_val_acc, svc_val_acc*100))"
      ]
    },
    {
      "cell_type": "code",
      "execution_count": null,
      "metadata": {
        "id": "zb1D_097Xoqk"
      },
      "outputs": [],
      "source": [
        "# Find predicted value from test data\n",
        "predicted_test_label_svc = svc.predict(X_test_pad)\n",
        "# Evaluate on test data\n",
        "svc_test_acc = accuracy_score(y_test, predicted_test_label_svc)\n",
        "print('Accuracy on Test set {:.5f} ({:.3f}%)'.format(svc_test_acc, svc_test_acc*100))"
      ]
    },
    {
      "cell_type": "markdown",
      "metadata": {
        "id": "HpUsYkGzOq_V"
      },
      "source": [
        "**References**"
      ]
    },
    {
      "cell_type": "markdown",
      "metadata": {
        "id": "CV1TUA4vX1t0"
      },
      "source": [
        "\n",
        "https://neptune.ai/blog/tokenization-in-nlp\n",
        "\n",
        "CSCI5750 - Machine Learning Final Project (Nichapha Manoonwong)"
      ]
    }
  ],
  "metadata": {
    "colab": {
      "collapsed_sections": [],
      "provenance": [],
      "include_colab_link": true
    },
    "kernelspec": {
      "display_name": "Python 3",
      "name": "python3"
    },
    "language_info": {
      "name": "python"
    }
  },
  "nbformat": 4,
  "nbformat_minor": 0
}