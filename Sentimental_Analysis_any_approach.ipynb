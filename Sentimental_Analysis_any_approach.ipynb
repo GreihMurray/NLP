{
  "nbformat": 4,
  "nbformat_minor": 0,
  "metadata": {
    "colab": {
      "provenance": [],
      "collapsed_sections": [],
      "authorship_tag": "ABX9TyMcU/nhOGa1M0c67bPXMRhF",
      "include_colab_link": true
    },
    "kernelspec": {
      "name": "python3",
      "display_name": "Python 3"
    },
    "language_info": {
      "name": "python"
    }
  },
  "cells": [
    {
      "cell_type": "markdown",
      "metadata": {
        "id": "view-in-github",
        "colab_type": "text"
      },
      "source": [
        "<a href=\"https://colab.research.google.com/github/aithaprasad/NLP_Sentiment_Analysis/blob/master/Sentimental_Analysis_any_approach.ipynb\" target=\"_parent\"><img src=\"https://colab.research.google.com/assets/colab-badge.svg\" alt=\"Open In Colab\"/></a>"
      ]
    },
    {
      "cell_type": "code",
      "source": [
        "from keras.preprocessing.sequence import pad_sequences\n",
        "from keras.models import Sequential\n",
        "from keras.layers.core import Activation, Dropout, Dense\n",
        "from keras.layers import Flatten\n",
        "from keras.layers import GlobalMaxPooling1D\n",
        "from keras.layers.embeddings import Embedding\n",
        "from sklearn.model_selection import train_test_split\n",
        "from keras.preprocessing.text import Tokenizer"
      ],
      "metadata": {
        "id": "7BxRxnUpxqzU"
      },
      "execution_count": 1,
      "outputs": []
    },
    {
      "cell_type": "markdown",
      "source": [
        "**Reading the data from the tsv file and naming the columns**"
      ],
      "metadata": {
        "id": "c-k9lU4rYxe8"
      }
    },
    {
      "cell_type": "code",
      "source": [
        "import pandas as pd\n",
        "import numpy as np\n",
        "data = pd.read_csv('train.tsv', delimiter=\"\\t\", header = None, names = ['label', 'sentence'])\n",
        "test_data = pd.read_csv('train.tsv', delimiter=\"\\t\", header = None, names = ['label', 'sentence'])"
      ],
      "metadata": {
        "id": "dCfDxRG8xr2K"
      },
      "execution_count": 2,
      "outputs": []
    },
    {
      "cell_type": "code",
      "source": [
        "data.head() #just making sure data got read and labelled correctly"
      ],
      "metadata": {
        "colab": {
          "base_uri": "https://localhost:8080/",
          "height": 206
        },
        "id": "jFai9U4KD3V3",
        "outputId": "5ed87077-6c2e-4d67-9b7d-4833a9cda407"
      },
      "execution_count": 3,
      "outputs": [
        {
          "output_type": "execute_result",
          "data": {
            "text/plain": [
              "   label                                           sentence\n",
              "0      0  @USER @USER a sicrhau bod mwy o arian poced 'd...\n",
              "1      1  Parti Dolig da gyda tim swyddfa canolog @USER ...\n",
              "2      0               @USER yeaah ma fe yn wir. ( oh well.\n",
              "3      1               @USER hahaha idk. 3am oedd y bws ti?\n",
              "4      0                      @USER dwim yn gal llun ohoni?"
            ],
            "text/html": [
              "\n",
              "  <div id=\"df-d5018046-358a-4e75-b8a7-2dce2bd571bf\">\n",
              "    <div class=\"colab-df-container\">\n",
              "      <div>\n",
              "<style scoped>\n",
              "    .dataframe tbody tr th:only-of-type {\n",
              "        vertical-align: middle;\n",
              "    }\n",
              "\n",
              "    .dataframe tbody tr th {\n",
              "        vertical-align: top;\n",
              "    }\n",
              "\n",
              "    .dataframe thead th {\n",
              "        text-align: right;\n",
              "    }\n",
              "</style>\n",
              "<table border=\"1\" class=\"dataframe\">\n",
              "  <thead>\n",
              "    <tr style=\"text-align: right;\">\n",
              "      <th></th>\n",
              "      <th>label</th>\n",
              "      <th>sentence</th>\n",
              "    </tr>\n",
              "  </thead>\n",
              "  <tbody>\n",
              "    <tr>\n",
              "      <th>0</th>\n",
              "      <td>0</td>\n",
              "      <td>@USER @USER a sicrhau bod mwy o arian poced 'd...</td>\n",
              "    </tr>\n",
              "    <tr>\n",
              "      <th>1</th>\n",
              "      <td>1</td>\n",
              "      <td>Parti Dolig da gyda tim swyddfa canolog @USER ...</td>\n",
              "    </tr>\n",
              "    <tr>\n",
              "      <th>2</th>\n",
              "      <td>0</td>\n",
              "      <td>@USER yeaah ma fe yn wir. ( oh well.</td>\n",
              "    </tr>\n",
              "    <tr>\n",
              "      <th>3</th>\n",
              "      <td>1</td>\n",
              "      <td>@USER hahaha idk. 3am oedd y bws ti?</td>\n",
              "    </tr>\n",
              "    <tr>\n",
              "      <th>4</th>\n",
              "      <td>0</td>\n",
              "      <td>@USER dwim yn gal llun ohoni?</td>\n",
              "    </tr>\n",
              "  </tbody>\n",
              "</table>\n",
              "</div>\n",
              "      <button class=\"colab-df-convert\" onclick=\"convertToInteractive('df-d5018046-358a-4e75-b8a7-2dce2bd571bf')\"\n",
              "              title=\"Convert this dataframe to an interactive table.\"\n",
              "              style=\"display:none;\">\n",
              "        \n",
              "  <svg xmlns=\"http://www.w3.org/2000/svg\" height=\"24px\"viewBox=\"0 0 24 24\"\n",
              "       width=\"24px\">\n",
              "    <path d=\"M0 0h24v24H0V0z\" fill=\"none\"/>\n",
              "    <path d=\"M18.56 5.44l.94 2.06.94-2.06 2.06-.94-2.06-.94-.94-2.06-.94 2.06-2.06.94zm-11 1L8.5 8.5l.94-2.06 2.06-.94-2.06-.94L8.5 2.5l-.94 2.06-2.06.94zm10 10l.94 2.06.94-2.06 2.06-.94-2.06-.94-.94-2.06-.94 2.06-2.06.94z\"/><path d=\"M17.41 7.96l-1.37-1.37c-.4-.4-.92-.59-1.43-.59-.52 0-1.04.2-1.43.59L10.3 9.45l-7.72 7.72c-.78.78-.78 2.05 0 2.83L4 21.41c.39.39.9.59 1.41.59.51 0 1.02-.2 1.41-.59l7.78-7.78 2.81-2.81c.8-.78.8-2.07 0-2.86zM5.41 20L4 18.59l7.72-7.72 1.47 1.35L5.41 20z\"/>\n",
              "  </svg>\n",
              "      </button>\n",
              "      \n",
              "  <style>\n",
              "    .colab-df-container {\n",
              "      display:flex;\n",
              "      flex-wrap:wrap;\n",
              "      gap: 12px;\n",
              "    }\n",
              "\n",
              "    .colab-df-convert {\n",
              "      background-color: #E8F0FE;\n",
              "      border: none;\n",
              "      border-radius: 50%;\n",
              "      cursor: pointer;\n",
              "      display: none;\n",
              "      fill: #1967D2;\n",
              "      height: 32px;\n",
              "      padding: 0 0 0 0;\n",
              "      width: 32px;\n",
              "    }\n",
              "\n",
              "    .colab-df-convert:hover {\n",
              "      background-color: #E2EBFA;\n",
              "      box-shadow: 0px 1px 2px rgba(60, 64, 67, 0.3), 0px 1px 3px 1px rgba(60, 64, 67, 0.15);\n",
              "      fill: #174EA6;\n",
              "    }\n",
              "\n",
              "    [theme=dark] .colab-df-convert {\n",
              "      background-color: #3B4455;\n",
              "      fill: #D2E3FC;\n",
              "    }\n",
              "\n",
              "    [theme=dark] .colab-df-convert:hover {\n",
              "      background-color: #434B5C;\n",
              "      box-shadow: 0px 1px 3px 1px rgba(0, 0, 0, 0.15);\n",
              "      filter: drop-shadow(0px 1px 2px rgba(0, 0, 0, 0.3));\n",
              "      fill: #FFFFFF;\n",
              "    }\n",
              "  </style>\n",
              "\n",
              "      <script>\n",
              "        const buttonEl =\n",
              "          document.querySelector('#df-d5018046-358a-4e75-b8a7-2dce2bd571bf button.colab-df-convert');\n",
              "        buttonEl.style.display =\n",
              "          google.colab.kernel.accessAllowed ? 'block' : 'none';\n",
              "\n",
              "        async function convertToInteractive(key) {\n",
              "          const element = document.querySelector('#df-d5018046-358a-4e75-b8a7-2dce2bd571bf');\n",
              "          const dataTable =\n",
              "            await google.colab.kernel.invokeFunction('convertToInteractive',\n",
              "                                                     [key], {});\n",
              "          if (!dataTable) return;\n",
              "\n",
              "          const docLinkHtml = 'Like what you see? Visit the ' +\n",
              "            '<a target=\"_blank\" href=https://colab.research.google.com/notebooks/data_table.ipynb>data table notebook</a>'\n",
              "            + ' to learn more about interactive tables.';\n",
              "          element.innerHTML = '';\n",
              "          dataTable['output_type'] = 'display_data';\n",
              "          await google.colab.output.renderOutput(dataTable, element);\n",
              "          const docLink = document.createElement('div');\n",
              "          docLink.innerHTML = docLinkHtml;\n",
              "          element.appendChild(docLink);\n",
              "        }\n",
              "      </script>\n",
              "    </div>\n",
              "  </div>\n",
              "  "
            ]
          },
          "metadata": {},
          "execution_count": 3
        }
      ]
    },
    {
      "cell_type": "code",
      "source": [
        "data.isnull().values.any()"
      ],
      "metadata": {
        "colab": {
          "base_uri": "https://localhost:8080/"
        },
        "id": "4njTdSsmEB_P",
        "outputId": "57930850-1613-4b96-fb1e-93e8c6c1e0c3"
      },
      "execution_count": 4,
      "outputs": [
        {
          "output_type": "execute_result",
          "data": {
            "text/plain": [
              "False"
            ]
          },
          "metadata": {},
          "execution_count": 4
        }
      ]
    },
    {
      "cell_type": "code",
      "source": [
        "data.shape"
      ],
      "metadata": {
        "colab": {
          "base_uri": "https://localhost:8080/"
        },
        "id": "hWFX6yM1EQw8",
        "outputId": "1da7dbc6-6fcc-496e-af8c-fcdabf58f7ba"
      },
      "execution_count": 5,
      "outputs": [
        {
          "output_type": "execute_result",
          "data": {
            "text/plain": [
              "(78609, 2)"
            ]
          },
          "metadata": {},
          "execution_count": 5
        }
      ]
    },
    {
      "cell_type": "code",
      "source": [
        "X, y = data['sentence'], data['label']"
      ],
      "metadata": {
        "id": "vPsH4vNBFz0c"
      },
      "execution_count": 4,
      "outputs": []
    },
    {
      "cell_type": "code",
      "source": [
        "X_final_test, y_final_test = test_data['sentence'], test_data['label']"
      ],
      "metadata": {
        "id": "9FFOUzePfhxj"
      },
      "execution_count": 5,
      "outputs": []
    },
    {
      "cell_type": "markdown",
      "source": [
        "**Splitting the dataset into train, dev and test samples**"
      ],
      "metadata": {
        "id": "qXa2ul3tas_q"
      }
    },
    {
      "cell_type": "code",
      "source": [
        "X_train, X_other, y_train, y_other = train_test_split(X, y, test_size=0.20, random_state=42)"
      ],
      "metadata": {
        "id": "oYNcPLJ1F-iL"
      },
      "execution_count": 5,
      "outputs": []
    },
    {
      "cell_type": "code",
      "source": [
        "X_dev, X_test, y_dev, y_test = train_test_split(X_other, y_other, test_size=0.5, random_state=42)"
      ],
      "metadata": {
        "id": "HRuVoWjsKxEa"
      },
      "execution_count": 6,
      "outputs": []
    },
    {
      "cell_type": "markdown",
      "source": [
        "**Tokenizing words and make it fit on our training data and utilized that tokenizer to compute dev and test sets.**"
      ],
      "metadata": {
        "id": "fYXPzp4Pb3BP"
      }
    },
    {
      "cell_type": "code",
      "source": [
        "tokenizer = Tokenizer(num_words=50000)\n",
        "tokenizer.fit_on_texts(X_train)\n",
        "\n",
        "X_train_tok = tokenizer.texts_to_sequences(X_train)\n",
        "X_dev_tok = tokenizer.texts_to_sequences(X_dev)\n",
        "X_test_tok = tokenizer.texts_to_sequences(X_test)"
      ],
      "metadata": {
        "id": "D_y2EY-2Kybk"
      },
      "execution_count": 7,
      "outputs": []
    },
    {
      "cell_type": "code",
      "source": [
        "tokenizer = Tokenizer(num_words=50000)\n",
        "tokenizer.fit_on_texts(X)\n",
        "\n",
        "X_tok = tokenizer.texts_to_sequences(X)\n",
        "#X_dev_tok = tokenizer.texts_to_sequences(X_dev)\n",
        "X_final_test_tok = tokenizer.texts_to_sequences(X_final_test)"
      ],
      "metadata": {
        "id": "IecIWmNsf4hg"
      },
      "execution_count": 6,
      "outputs": []
    },
    {
      "cell_type": "code",
      "source": [
        "X_train_tok[60000]"
      ],
      "metadata": {
        "colab": {
          "base_uri": "https://localhost:8080/"
        },
        "id": "6uO0k11BLPDP",
        "outputId": "97929ae2-8c8d-4bd1-a174-ae061eb15fae"
      },
      "execution_count": 10,
      "outputs": [
        {
          "output_type": "execute_result",
          "data": {
            "text/plain": [
              "[100, 60, 2777, 27, 2, 791, 2764, 5, 317]"
            ]
          },
          "metadata": {},
          "execution_count": 10
        }
      ]
    },
    {
      "cell_type": "code",
      "source": [
        "for item in X_train_tok:\n",
        "  if 49999 in item:\n",
        "    print(\"True\")"
      ],
      "metadata": {
        "id": "edRmcXx9LRNY",
        "colab": {
          "base_uri": "https://localhost:8080/"
        },
        "outputId": "79d681aa-7c39-4efe-8188-e33d4a7f6dc7"
      },
      "execution_count": 12,
      "outputs": [
        {
          "output_type": "stream",
          "name": "stdout",
          "text": [
            "True\n"
          ]
        }
      ]
    },
    {
      "cell_type": "code",
      "source": [
        "len(tokenizer.word_index)"
      ],
      "metadata": {
        "colab": {
          "base_uri": "https://localhost:8080/"
        },
        "id": "Z-nyjGgbLS-0",
        "outputId": "68c536b4-629c-4c91-a6af-3a4202d1f25d"
      },
      "execution_count": 13,
      "outputs": [
        {
          "output_type": "execute_result",
          "data": {
            "text/plain": [
              "61245"
            ]
          },
          "metadata": {},
          "execution_count": 13
        }
      ]
    },
    {
      "cell_type": "markdown",
      "source": [
        "**Currently, we have different length of sentences(w.r.t number of words), so we are gonna pad all those sentences with less than 100 words**"
      ],
      "metadata": {
        "id": "B58jFaX1ckuA"
      }
    },
    {
      "cell_type": "code",
      "source": [
        "vocab_size = len(tokenizer.word_index) + 1\n",
        "\n",
        "maxlen = 100\n",
        "\n",
        "X_train_pad = pad_sequences(X_train_tok, padding='post', maxlen=maxlen)\n",
        "X_dev_pad = pad_sequences(X_dev_tok, padding='post', maxlen=maxlen)\n",
        "X_test_pad = pad_sequences(X_test_tok, padding='post', maxlen=maxlen)"
      ],
      "metadata": {
        "id": "-U8pa2TXOVzG"
      },
      "execution_count": 8,
      "outputs": []
    },
    {
      "cell_type": "code",
      "source": [
        "vocab_size = len(tokenizer.word_index) + 1\n",
        "\n",
        "maxlen = 100\n",
        "\n",
        "X_pad = pad_sequences(X_tok, padding='post', maxlen=maxlen)\n",
        "#X_dev_pad = pad_sequences(X_dev_tok, padding='post', maxlen=maxlen)\n",
        "X_final_test_pad = pad_sequences(X_final_test_tok, padding='post', maxlen=maxlen)"
      ],
      "metadata": {
        "id": "fyAy3fvPge-t"
      },
      "execution_count": 7,
      "outputs": []
    },
    {
      "cell_type": "markdown",
      "source": [
        "**Started with simple neural network which consists of an embedding layer and the dense layer with sigmoid activation and also added a dropout layer because of the overfitting**"
      ],
      "metadata": {
        "id": "s7_wz1fKdPmC"
      }
    },
    {
      "cell_type": "code",
      "source": [
        "model = Sequential()\n",
        "embedding_layer = Embedding(vocab_size, 100, input_length=maxlen)\n",
        "model.add(embedding_layer)\n",
        "model.add(Dropout(0.2))\n",
        "model.add(Flatten())\n",
        "model.add(Dense(1, activation='sigmoid'))\n",
        "model.compile(optimizer='adam', loss='binary_crossentropy', metrics=['acc'])\n",
        "\n",
        "print(model.summary())"
      ],
      "metadata": {
        "colab": {
          "base_uri": "https://localhost:8080/"
        },
        "id": "btOv0dM5OQVy",
        "outputId": "052b1557-45d2-4a7a-9e42-1e1cea03d073"
      },
      "execution_count": 8,
      "outputs": [
        {
          "output_type": "stream",
          "name": "stdout",
          "text": [
            "Model: \"sequential\"\n",
            "_________________________________________________________________\n",
            " Layer (type)                Output Shape              Param #   \n",
            "=================================================================\n",
            " embedding (Embedding)       (None, 100, 100)          7029700   \n",
            "                                                                 \n",
            " dropout (Dropout)           (None, 100, 100)          0         \n",
            "                                                                 \n",
            " flatten (Flatten)           (None, 10000)             0         \n",
            "                                                                 \n",
            " dense (Dense)               (None, 1)                 10001     \n",
            "                                                                 \n",
            "=================================================================\n",
            "Total params: 7,039,701\n",
            "Trainable params: 7,039,701\n",
            "Non-trainable params: 0\n",
            "_________________________________________________________________\n",
            "None\n"
          ]
        }
      ]
    },
    {
      "cell_type": "code",
      "source": [
        "history = model.fit(X_pad, y, batch_size=128, epochs=3, verbose=1)"
      ],
      "metadata": {
        "colab": {
          "base_uri": "https://localhost:8080/"
        },
        "id": "vbfIFD_Tgwiq",
        "outputId": "ef365b52-c450-4502-cbfa-743bb62ca3ed"
      },
      "execution_count": 9,
      "outputs": [
        {
          "output_type": "stream",
          "name": "stdout",
          "text": [
            "Epoch 1/3\n",
            "615/615 [==============================] - 64s 102ms/step - loss: 0.5652 - acc: 0.7011\n",
            "Epoch 2/3\n",
            "615/615 [==============================] - 59s 95ms/step - loss: 0.4248 - acc: 0.8078\n",
            "Epoch 3/3\n",
            "615/615 [==============================] - 60s 97ms/step - loss: 0.2949 - acc: 0.8830\n"
          ]
        }
      ]
    },
    {
      "cell_type": "code",
      "source": [
        "history = model.fit(X_train_pad, y_train, batch_size=128, epochs=3, verbose=1, validation_data=(X_dev_pad, y_dev))"
      ],
      "metadata": {
        "colab": {
          "base_uri": "https://localhost:8080/"
        },
        "id": "vLLxHtQ6R7n1",
        "outputId": "b4b43742-e31f-493e-8ad5-e5fe49a8e659"
      },
      "execution_count": 10,
      "outputs": [
        {
          "output_type": "stream",
          "name": "stdout",
          "text": [
            "Epoch 1/3\n",
            "492/492 [==============================] - 37s 73ms/step - loss: 0.5769 - acc: 0.6901 - val_loss: 0.5176 - val_acc: 0.7453\n",
            "Epoch 2/3\n",
            "492/492 [==============================] - 36s 74ms/step - loss: 0.4295 - acc: 0.8063 - val_loss: 0.5131 - val_acc: 0.7493\n",
            "Epoch 3/3\n",
            "492/492 [==============================] - 38s 76ms/step - loss: 0.2953 - acc: 0.8854 - val_loss: 0.5523 - val_acc: 0.7381\n"
          ]
        }
      ]
    },
    {
      "cell_type": "code",
      "source": [
        "score = model.evaluate(X_final_test_pad, y_final_test, verbose=1)"
      ],
      "metadata": {
        "colab": {
          "base_uri": "https://localhost:8080/"
        },
        "id": "Z1QEYF0Cg6ov",
        "outputId": "e3db347e-1d7e-4c56-8f29-1f03655dd75e"
      },
      "execution_count": 10,
      "outputs": [
        {
          "output_type": "stream",
          "name": "stdout",
          "text": [
            "2457/2457 [==============================] - 5s 2ms/step - loss: 0.1839 - acc: 0.9466\n"
          ]
        }
      ]
    },
    {
      "cell_type": "code",
      "source": [
        "score = model.evaluate(X_test_pad, y_test, verbose=1)"
      ],
      "metadata": {
        "colab": {
          "base_uri": "https://localhost:8080/"
        },
        "id": "4fURS6p5SWsi",
        "outputId": "be75f56a-b434-444d-f162-6136e309b568"
      },
      "execution_count": 11,
      "outputs": [
        {
          "output_type": "stream",
          "name": "stdout",
          "text": [
            "246/246 [==============================] - 0s 2ms/step - loss: 0.5574 - acc: 0.7323\n"
          ]
        }
      ]
    },
    {
      "cell_type": "code",
      "source": [
        "print(\"Test Score:\", score[0])\n",
        "print(\"Test Accuracy:\", score[1])"
      ],
      "metadata": {
        "colab": {
          "base_uri": "https://localhost:8080/"
        },
        "id": "oH5XWY4ShWFi",
        "outputId": "2e0a8645-4c04-4390-fe76-9df45750694c"
      },
      "execution_count": 11,
      "outputs": [
        {
          "output_type": "stream",
          "name": "stdout",
          "text": [
            "Test Score: 0.18391725420951843\n",
            "Test Accuracy: 0.9465837478637695\n"
          ]
        }
      ]
    },
    {
      "cell_type": "code",
      "source": [
        "print(score)"
      ],
      "metadata": {
        "colab": {
          "base_uri": "https://localhost:8080/"
        },
        "id": "VJd8QgDEj36E",
        "outputId": "06f0c0d1-cea8-4b03-e307-e6516811cd95"
      },
      "execution_count": 15,
      "outputs": [
        {
          "output_type": "stream",
          "name": "stdout",
          "text": [
            "[0.18391725420951843, 0.9465837478637695]\n"
          ]
        }
      ]
    },
    {
      "cell_type": "code",
      "source": [
        "from sklearn import metrics\n",
        "import numpy as np\n",
        "\n",
        "y_final_test_predicted_labels = model.predict(X_final_test_pad)\n",
        "y_final_test_predicted_labels = (y_final_test_predicted_labels > 0.5).astype(int)\n",
        "\n",
        "final_test_accuracy = metrics.accuracy_score(y_final_test, y_final_test_predicted_labels)\n",
        "final_test_precision = metrics.precision_score(y_final_test, y_final_test_predicted_labels, pos_label = 1)\n",
        "final_test_recall = metrics.recall_score(y_final_test, y_final_test_predicted_labels, pos_label = 1)\n",
        "final_test_f1score = metrics.f1_score(y_final_test, y_final_test_predicted_labels, pos_label = 1)\n",
        "final_test_auc_score = metrics.roc_auc_score(y_final_test, y_final_test_predicted_labels)"
      ],
      "metadata": {
        "id": "r4IDrza8jeNz"
      },
      "execution_count": 18,
      "outputs": []
    },
    {
      "cell_type": "code",
      "source": [
        "print(final_test_accuracy)\n",
        "print(final_test_precision)\n",
        "print(final_test_recall)\n",
        "print(final_test_f1score)\n",
        "print(final_test_auc_score)"
      ],
      "metadata": {
        "colab": {
          "base_uri": "https://localhost:8080/"
        },
        "id": "Omv4Mq7lna80",
        "outputId": "8c93d310-8d23-433d-f0df-0d1920efdcc8"
      },
      "execution_count": 20,
      "outputs": [
        {
          "output_type": "stream",
          "name": "stdout",
          "text": [
            "0.9465837245099161\n",
            "0.9436502323701758\n",
            "0.9499605888784357\n",
            "0.9467948961619846\n",
            "0.9465816182681385\n"
          ]
        }
      ]
    },
    {
      "cell_type": "code",
      "source": [
        "model.save(\"neural_network_with_regularization.h5\")"
      ],
      "metadata": {
        "id": "SSgQYZNGiOVB"
      },
      "execution_count": 14,
      "outputs": []
    },
    {
      "cell_type": "code",
      "source": [
        "print(\"Test Score:\", score[0])\n",
        "print(\"Test Accuracy:\", score[1])"
      ],
      "metadata": {
        "colab": {
          "base_uri": "https://localhost:8080/"
        },
        "id": "ELT5cHEMUJ-8",
        "outputId": "b1edbe31-0d8b-4424-f174-b212cafa2a71"
      },
      "execution_count": 12,
      "outputs": [
        {
          "output_type": "stream",
          "name": "stdout",
          "text": [
            "Test Score: 0.5574179291725159\n",
            "Test Accuracy: 0.7323495745658875\n"
          ]
        }
      ]
    },
    {
      "cell_type": "markdown",
      "source": [
        "**Tried with CNN model, added a convolutional 1D network and played trial and error with count in dense layers and number of neurons but ended uo with a Conv1D, and then regularization with dropout and a global max pooling layer**"
      ],
      "metadata": {
        "id": "h-jVGA4rfJXD"
      }
    },
    {
      "cell_type": "code",
      "source": [
        "from keras.layers import Conv1D\n",
        "cnn_model = Sequential()\n",
        "\n",
        "embedding_layer = Embedding(vocab_size, 100, input_length=maxlen)\n",
        "cnn_model.add(embedding_layer)\n",
        "\n",
        "cnn_model.add(Conv1D(128, 5, activation='relu'))\n",
        "model.add(Dropout(0.2))\n",
        "cnn_model.add(GlobalMaxPooling1D())\n",
        "cnn_model.add(Dense(1, activation='sigmoid'))\n",
        "cnn_model.compile(optimizer='adam', loss='binary_crossentropy', metrics=['acc'])"
      ],
      "metadata": {
        "id": "dkC69fuJUP8T"
      },
      "execution_count": 18,
      "outputs": []
    },
    {
      "cell_type": "code",
      "source": [
        "cnn_model.summary()"
      ],
      "metadata": {
        "colab": {
          "base_uri": "https://localhost:8080/"
        },
        "id": "RGzepy5yVlx0",
        "outputId": "551a5153-11e8-471c-c2ae-1c6ea2184a8b"
      },
      "execution_count": 19,
      "outputs": [
        {
          "output_type": "stream",
          "name": "stdout",
          "text": [
            "Model: \"sequential_2\"\n",
            "_________________________________________________________________\n",
            " Layer (type)                Output Shape              Param #   \n",
            "=================================================================\n",
            " embedding (Embedding)       (None, 100, 100)          6124600   \n",
            "                                                                 \n",
            " conv1d_1 (Conv1D)           (None, 96, 128)           64128     \n",
            "                                                                 \n",
            " global_max_pooling1d_1 (Glo  (None, 128)              0         \n",
            " balMaxPooling1D)                                                \n",
            "                                                                 \n",
            " dense_2 (Dense)             (None, 1)                 129       \n",
            "                                                                 \n",
            "=================================================================\n",
            "Total params: 6,188,857\n",
            "Trainable params: 6,188,857\n",
            "Non-trainable params: 0\n",
            "_________________________________________________________________\n"
          ]
        }
      ]
    },
    {
      "cell_type": "code",
      "source": [
        "cnn_history = cnn_model.fit(X_train_pad, y_train, batch_size=128, epochs=1, verbose=1, validation_data=(X_dev_pad, y_dev))"
      ],
      "metadata": {
        "colab": {
          "base_uri": "https://localhost:8080/"
        },
        "id": "o4e2-uvUYq1U",
        "outputId": "db0c0e1e-7dc3-4d07-f10f-1ad57c14d0dd"
      },
      "execution_count": 20,
      "outputs": [
        {
          "output_type": "stream",
          "name": "stdout",
          "text": [
            "Epoch 1/3\n",
            "492/492 [==============================] - 79s 160ms/step - loss: 0.1979 - acc: 0.9268 - val_loss: 0.8806 - val_acc: 0.7077\n",
            "Epoch 2/3\n",
            "492/492 [==============================] - 76s 155ms/step - loss: 0.0955 - acc: 0.9656 - val_loss: 1.0768 - val_acc: 0.7045\n",
            "Epoch 3/3\n",
            "492/492 [==============================] - 78s 159ms/step - loss: 0.0561 - acc: 0.9814 - val_loss: 1.2908 - val_acc: 0.6986\n"
          ]
        }
      ]
    },
    {
      "cell_type": "code",
      "source": [
        "score = cnn_model.evaluate(X_test_pad, y_test, verbose=1)"
      ],
      "metadata": {
        "colab": {
          "base_uri": "https://localhost:8080/"
        },
        "id": "eH2lUhJnYyG4",
        "outputId": "52e4f4bd-87d6-4cc1-ccae-2fc06121a973"
      },
      "execution_count": 21,
      "outputs": [
        {
          "output_type": "stream",
          "name": "stdout",
          "text": [
            "246/246 [==============================] - 2s 8ms/step - loss: 1.2805 - acc: 0.6972\n"
          ]
        }
      ]
    },
    {
      "cell_type": "code",
      "source": [
        "print(\"Test Score:\", score[0])\n",
        "print(\"Test Accuracy:\", score[1])"
      ],
      "metadata": {
        "colab": {
          "base_uri": "https://localhost:8080/"
        },
        "id": "az3-Q4umbL5F",
        "outputId": "53bb7ee1-8809-4da5-f51e-e32c9661794f"
      },
      "execution_count": 22,
      "outputs": [
        {
          "output_type": "stream",
          "name": "stdout",
          "text": [
            "Test Score: 1.2805395126342773\n",
            "Test Accuracy: 0.6972395181655884\n"
          ]
        }
      ]
    },
    {
      "cell_type": "markdown",
      "source": [
        "**Used RNN with LSTM(Long short-term memory), with the same embedding layer and activation, but got under-fitting, tried by incresing the complexity but the results went down.**"
      ],
      "metadata": {
        "id": "oIzahMvqfrPj"
      }
    },
    {
      "cell_type": "code",
      "source": [
        "from keras.layers import LSTM\n",
        "lstm_model = Sequential()\n",
        "embedding_layer = Embedding(vocab_size, 100, input_length = maxlen)\n",
        "lstm_model.add(embedding_layer)\n",
        "lstm_model.add(LSTM(128))\n",
        "lstm_model.add(Dense(1, activation='sigmoid'))\n",
        "lstm_model.compile(optimizer='adam', loss='binary_crossentropy', metrics=['acc'])"
      ],
      "metadata": {
        "id": "cw71Qwcagchj"
      },
      "execution_count": 15,
      "outputs": []
    },
    {
      "cell_type": "code",
      "source": [
        "lstm_model.summary()"
      ],
      "metadata": {
        "colab": {
          "base_uri": "https://localhost:8080/"
        },
        "id": "YtBTwelhJbc5",
        "outputId": "4e3eea4b-38bb-4c54-bd07-e15d0d084e83"
      },
      "execution_count": 16,
      "outputs": [
        {
          "output_type": "stream",
          "name": "stdout",
          "text": [
            "Model: \"sequential\"\n",
            "_________________________________________________________________\n",
            " Layer (type)                Output Shape              Param #   \n",
            "=================================================================\n",
            " embedding (Embedding)       (None, 100, 100)          6124600   \n",
            "                                                                 \n",
            " lstm (LSTM)                 (None, 128)               117248    \n",
            "                                                                 \n",
            " dense (Dense)               (None, 1)                 129       \n",
            "                                                                 \n",
            "=================================================================\n",
            "Total params: 6,241,977\n",
            "Trainable params: 6,241,977\n",
            "Non-trainable params: 0\n",
            "_________________________________________________________________\n"
          ]
        }
      ]
    },
    {
      "cell_type": "code",
      "source": [
        "lstm_history = lstm_model.fit(X_train_pad, y_train, batch_size=128, epochs=5, verbose=1, validation_data=(X_dev_pad, y_dev))"
      ],
      "metadata": {
        "colab": {
          "base_uri": "https://localhost:8080/"
        },
        "id": "2EH8-DbCJfHT",
        "outputId": "4ad847d5-4395-4893-adb8-8011a4fe207b"
      },
      "execution_count": 17,
      "outputs": [
        {
          "output_type": "stream",
          "name": "stdout",
          "text": [
            "Epoch 1/5\n",
            "492/492 [==============================] - 227s 455ms/step - loss: 0.6933 - acc: 0.4991 - val_loss: 0.6931 - val_acc: 0.5066\n",
            "Epoch 2/5\n",
            "492/492 [==============================] - 222s 450ms/step - loss: 0.6932 - acc: 0.4992 - val_loss: 0.6936 - val_acc: 0.4937\n",
            "Epoch 3/5\n",
            "492/492 [==============================] - 221s 448ms/step - loss: 0.6932 - acc: 0.4984 - val_loss: 0.6932 - val_acc: 0.4937\n",
            "Epoch 4/5\n",
            "492/492 [==============================] - 222s 452ms/step - loss: 0.6932 - acc: 0.4985 - val_loss: 0.6933 - val_acc: 0.4937\n",
            "Epoch 5/5\n",
            "492/492 [==============================] - 224s 454ms/step - loss: 0.6931 - acc: 0.5029 - val_loss: 0.6931 - val_acc: 0.5066\n"
          ]
        }
      ]
    },
    {
      "cell_type": "code",
      "source": [
        "score = lstm_model.evaluate(X_test_pad, y_test, verbose=1)"
      ],
      "metadata": {
        "colab": {
          "base_uri": "https://localhost:8080/"
        },
        "id": "o1pRd6unJttN",
        "outputId": "58fd643b-7d77-4a08-ff47-3a2b12f4c4b3"
      },
      "execution_count": 18,
      "outputs": [
        {
          "output_type": "stream",
          "name": "stdout",
          "text": [
            "246/246 [==============================] - 12s 47ms/step - loss: 0.6932 - acc: 0.4948\n"
          ]
        }
      ]
    },
    {
      "cell_type": "code",
      "source": [
        "print(\"Test Score:\", score[0])\n",
        "print(\"Test Accuracy:\", score[1])"
      ],
      "metadata": {
        "colab": {
          "base_uri": "https://localhost:8080/"
        },
        "id": "OSZDgP-pQygP",
        "outputId": "ff5cfc76-1f3e-48a7-fb7a-48a788a7faa6"
      },
      "execution_count": 19,
      "outputs": [
        {
          "output_type": "stream",
          "name": "stdout",
          "text": [
            "Test Score: 0.693200945854187\n",
            "Test Accuracy: 0.49484798312187195\n"
          ]
        }
      ]
    },
    {
      "cell_type": "markdown",
      "source": [
        "**Need to check with recall, precision and F-1 Score**"
      ],
      "metadata": {
        "id": "ODHjltqHnOEO"
      }
    },
    {
      "cell_type": "markdown",
      "source": [
        "**Reference: https://stackabuse.com/python-for-nlp-word-embeddings-for-deep-learning-in-keras/** used for embedding layer and tokenization."
      ],
      "metadata": {
        "id": "AbqkWG7BZtd5"
      }
    },
    {
      "cell_type": "code",
      "source": [],
      "metadata": {
        "id": "JCXa9C7OQ19R"
      },
      "execution_count": null,
      "outputs": []
    }
  ]
}